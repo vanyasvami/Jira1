{
 "cells": [
  {
   "cell_type": "markdown",
   "id": "b32b25aa",
   "metadata": {},
   "source": [
    "## Анализ 3P за период с 1.12 по 31.1\n",
    "\n",
    "- Я выгрузил из Jira данные, занес их в тетрадь и дальше построил график, который отражает кол-во поставок 3Р в зависимости от метода транспортировки"
   ]
  },
  {
   "cell_type": "code",
   "execution_count": 96,
   "id": "a6f8ce20",
   "metadata": {},
   "outputs": [],
   "source": [
    "import pandas as pd\n",
    "import datetime\n",
    "import seaborn as sns\n",
    "import matplotlib.pyplot as plt\n",
    "import plotly.express as px\n",
    "import plotly.graph_objects as go"
   ]
  },
  {
   "cell_type": "code",
   "execution_count": 97,
   "id": "6356fad5",
   "metadata": {},
   "outputs": [
    {
     "name": "stdout",
     "output_type": "stream",
     "text": [
      "Минимальная дата: 2023-12-01 00:00:00\n",
      "Максимальная дата: 2024-01-31 00:00:00\n"
     ]
    }
   ],
   "source": [
    "data = pd.DataFrame({\n",
    "    'WMS order number': [34845, 34534, 32711, 35182, 32855, 32705, 34536, 31689, 32459, 33980, 34843, 34837, 36222, 32708, 33683, 33533, 33532, 32460, 32461, 33253, 34840, 34364, 33981, 34518, 33984, 33527, 35183, 32854, 32455, 34838, 33257, 31690, 33258, 33530, 33983, 28874, 34535, 31231, 38947, 39191, 38353, 34835, 35900, 34834, 38355, 38675, 38941, 41166, 37851, 38021, 38671, 39189, 41498, 37095, 38354, 38935, 38681, 39144, 38673, 38672, 38940, 41164, 36576, 41499, 41501, 41200, 38939, 38350, 41762, 42244, 41201, 42193, 42318, 37344, 37094, 37096, 31857, 34533, 33982, 34226, 37853, 33684, 36223, 34842, 31490, 36570, 32698, 32707, 36802, 33535, 31489, 32058, 34839, 37394, 37391, 37396, 34836, 37093, 38351, 34227, 35865, 32710, 31846, 34844, 31410, 30947, 31848, 31486, 29755, 32709, 31569, 31847, 33528, 36221, 32856, 31229, 30940, 38352, 38357, 32824, 32676, 41948, 42550, 41495, 38348, 42195, 41162, 37092, 37462, 38564, 40991, 41065, 41066, 41165, 41409, 41767, 41942, 38349, 36804, 39192, 42980, 42979, 43497, 43522, 37599, 37393, 37271, 41067, 41163, 41693, 41600, 38347, 43167, 37852, 37272, 37458, 37604, 41064, 41001, 41408, 41402, 41599, 41198, 38128, 38356, 43319, 43341, 43518, 42870, 43320, 42658, 42656, 38127, 41502, 39524, 42655, 42657, 43172, 43174, 41202, 42654, 42650, 38563, 42559, 42669, 42327, 31856, 41703, 41510, 41761, 31492, 31680, 42054, 41697, 41701, 41946, 41760, 42659, 42552, 42194, 42871, 42326, 37606, 41702, 41271, 41768, 41947, 43311, 43169, 42978, 42245, 43168, 43170, 41951, 43146, 43166, 41704],\n",
    "    'Transportation method': ['air', 'air', 'air', 'air', 'air', 'air', 'air', 'air', 'air', 'air', 'air', 'air', 'air', 'air', 'air', 'air', 'air', 'air', 'air', 'air', 'air', 'air', 'air', 'air', 'air', 'air', 'air', 'air', 'air', 'air', 'air', 'air', 'air', 'air', 'air', 'land', 'air', 'air', 'air', 'air', 'air', 'land', 'land', 'land', 'air', 'air', 'air', 'air', 'air', 'air', 'air', 'air', 'air', 'air', 'air', 'air', 'air', 'air', 'air', 'air', 'air', 'air', 'air', 'air', 'air', 'air', 'air', 'air', 'air', 'air', 'air', 'air', 'air', 'air', 'air', 'air', 'air', 'air', 'air', 'land', 'air', 'land', 'air', 'air', 'air', 'air', 'land', 'air', 'air', 'land', 'air', 'air', 'air', 'air', 'air', 'air', 'air', 'air', 'air', 'land', 'air', 'air', 'air', 'air', 'air', 'land', 'air', 'air', 'land', 'air', 'air', 'air', 'air', 'air', 'air', 'air', 'air', 'air', 'air', 'air', 'air', 'air', 'air', 'air', 'air', 'air', 'air', 'land', 'land', 'land', 'land', 'land', 'land', 'land', 'land', 'land', 'land', 'land', 'air', 'air', 'land', 'land', 'land', 'land', 'land', 'land', 'land', 'land', 'land', 'land', 'land', 'land', 'land', 'land', 'land', 'land', 'land', 'land', 'land', 'land', 'land', 'land', 'land', 'land', 'air', 'land', 'land', 'land', 'land', 'land', 'air', 'air', 'air', 'land', 'air', 'air', 'air', 'air', 'air', 'air', 'land', 'land', 'land', 'air', 'air', 'land', 'air', 'land', 'land', 'land', 'air', 'land', 'land', 'land', 'land', 'land', 'land', 'land', 'land', 'land', 'land', 'land', 'land', 'land', 'land', 'land', 'land', 'land', 'land', 'land', 'land', 'land', 'land', 'land', 'land', 'land', 'land'\n",
    "],\n",
    "    'Excel serial numbers': [\n",
    "       45273, 45274, 45275, 45276, 45278, 45268, 45278, 45268, 45268, 45269, 45273, 45273, 45277, 45275, 45277, 45277, 45277, 45278, 45268, 45268, 45273, 45275, 45275, 45276, 45277, 45278, 45276, 45278, 45268, 45273, 45277, 45268, 45268, 45269, 45272, 45275, 45275, 45262, 45296, 45296, 45296, 45278, 45278, 45278, 45302, 45296, 45291, 45302, 45288, 45296, 45296, 45302, 45304, 45292, 45296, 45288, 45302, 45302, 45296, 45296, 45302, 45297, 45296, 45304, 45304, 45304, 45296, 45296, 45310, 45314, 45314, 45314, 45311, 45283, 45283, 45281, 45277, 45275, 45281, 45271, 45287, 45271, 45284, 45273, 45275, 45284, 45264, 45281, 45284, 45268, 45267, 45274, 45287, 45284, 45287, 45284, 45287, 45283, 45290, 45272, 45279, 45268, 45267, 45284, 45267, 45262, 45265, 45262, 45275, 45268, 45270, 45271, 45282, 45286, 45266, 45267, 45267, 45290, 45290, 45269, 45264, 45317, 45316, 45310, 45290, 45316, 45310, 45284, 45284, 45296, 45299, 45303, 45303, 45300, 45306, 45310, 45309, 45289, 45291, 45302, 45321, 45321, 45321, 45321, 45286, 45284, 45296, 45300, 45299, 45306, 45306, 45289, 45321, 45288, 45284, 45284, 45284, 45299, 45300, 45306, 45303, 45307, 45309, 45289, 45296, 45321, 45321, 45321, 45321, 45318, 45319, 45319, 45296, 45314, 45296, 45319, 45319, 45321, 45319, 45319, 45320, 45320, 45300, 45319, 45322, 45316, 45264, 45313, 45313, 45313, 45262, 45261, 45313, 45313, 45313, 45313, 45313, 45316, 45313, 45316, 45316, 45316, 45295, 45313, 45313, 45313, 45313, 45320, 45320, 45320, 45320, 45320, 45320, 45320, 45320, 45320, 45313\n",
    "    ]\n",
    "})\n",
    "excel_start_date = datetime.datetime(1899, 12, 30)\n",
    "\n",
    "data['Date'] = excel_start_date + pd.to_timedelta(data['Excel serial numbers'], unit='D')\n",
    "\n",
    "data['Formatted Date'] = data['Date'].dt.strftime('%d.%m.%Y %H:%M')\n",
    "\n",
    "data['Week Number'] = data['Date'].dt.isocalendar().week\n",
    "data['Year'] = data['Date'].dt.year\n",
    "\n",
    "min_date = data['Date'].min()\n",
    "max_date = data['Date'].max()\n",
    "\n",
    "print(\"Минимальная дата:\", min_date)\n",
    "print(\"Максимальная дата:\", max_date)\n"
   ]
  },
  {
   "cell_type": "code",
   "execution_count": 113,
   "id": "f649eaf0",
   "metadata": {},
   "outputs": [
    {
     "data": {
      "image/png": "[encoded data removed]",
      "text/plain": [
       "<Figure size 864x432 with 2 Axes>"
      ]
     },
     "metadata": {
      "needs_background": "light"
     },
     "output_type": "display_data"
    }
   ],
   "source": [
    "data_2023 = data[data['Year'] == 2023]\n",
    "data_2024 = data[data['Year'] == 2024]\n",
    "\n",
    "transport_counts_2023 = data_2023.groupby(['Week Number', 'Transportation method']).size().reset_index(name='Counts')\n",
    "\n",
    "transport_counts_2024 = data_2024.groupby(['Week Number', 'Transportation method']).size().reset_index(name='Counts')\n",
    "\n",
    "plt.figure(figsize=(12, 6))\n",
    "\n",
    "plt.subplot(2, 1, 1) \n",
    "sns.barplot(x='Week Number', y='Counts', hue='Transportation method', data=transport_counts_2023, palette='viridis')\n",
    "plt.title('Количество поставок 3P по методам транспортировки в 2023 году')\n",
    "plt.xlabel('Номер недели')\n",
    "plt.ylabel('Количество поставок')\n",
    "plt.xticks()\n",
    "\n",
    "plt.subplot(2, 1, 2) \n",
    "sns.barplot(x='Week Number', y='Counts', hue='Transportation method', data=transport_counts_2024, palette='viridis')\n",
    "plt.title('Количество поставок 3P по методам транспортировки в 2024 году')\n",
    "plt.xlabel('Номер недели')\n",
    "plt.ylabel('Количество поставок')\n",
    "plt.xticks()\n",
    "\n",
    "plt.tight_layout()  \n",
    "plt.show()\n"
   ]
  },
  {
   "cell_type": "markdown",
   "id": "f99ed2b6",
   "metadata": {},
   "source": [
    "## Интерактивный вариант этого же графика"
   ]
  },
  {
   "cell_type": "code",
   "execution_count": 112,
   "id": "7f8e80ce",
   "metadata": {},
   "outputs": [
    {
     "data": {
      "application/vnd.plotly.v1+json": {
       "config": {
        "plotlyServerURL": "https://plot.ly"
       },
       "data": [
        {
         "alignmentgroup": "True",
         "customdata": [
          [
           "air"
          ],
          [
           "air"
          ],
          [
           "air"
          ],
          [
           "air"
          ],
          [
           "air"
          ]
         ],
         "hovertemplate": "Transportation method=%{customdata[0]}<br>Количество поставок=%{y}<extra></extra>",
         "legendgroup": "air",
         "marker": {
          "color": "#636efa",
          "pattern": {
           "shape": ""
          }
         },
         "name": "air",
         "offsetgroup": "air",
         "orientation": "v",
         "showlegend": true,
         "textposition": "auto",
         "type": "bar",
         "x": [
          48,
          49,
          50,
          51,
          52
         ],
         "xaxis": "x",
         "y": [
          3,
          23,
          27,
          19,
          13
         ],
         "yaxis": "y"
        },
        {
         "alignmentgroup": "True",
         "customdata": [
          [
           "land"
          ],
          [
           "land"
          ],
          [
           "land"
          ],
          [
           "land"
          ],
          [
           "land"
          ]
         ],
         "hovertemplate": "Transportation method=%{customdata[0]}<br>Количество поставок=%{y}<extra></extra>",
         "legendgroup": "land",
         "marker": {
          "color": "#EF553B",
          "pattern": {
           "shape": ""
          }
         },
         "name": "land",
         "offsetgroup": "land",
         "orientation": "v",
         "showlegend": true,
         "textposition": "auto",
         "type": "bar",
         "x": [
          48,
          49,
          50,
          51,
          52
         ],
         "xaxis": "x",
         "y": [
          2,
          2,
          5,
          9,
          5
         ],
         "yaxis": "y"
        }
       ],
       "layout": {
        "barmode": "group",
        "legend": {
         "title": {
          "text": "Метод транспортировки"
         },
         "tracegroupgap": 0
        },
        "template": {
         "data": {
          "bar": [
           {
            "error_x": {
             "color": "#2a3f5f"
            },
            "error_y": {
             "color": "#2a3f5f"
            },
            "marker": {
             "line": {
              "color": "#E5ECF6",
              "width": 0.5
             },
             "pattern": {
              "fillmode": "overlay",
              "size": 10,
              "solidity": 0.2
             }
            },
            "type": "bar"
           }
          ],
          "barpolar": [
           {
            "marker": {
             "line": {
              "color": "#E5ECF6",
              "width": 0.5
             },
             "pattern": {
              "fillmode": "overlay",
              "size": 10,
              "solidity": 0.2
             }
            },
            "type": "barpolar"
           }
          ],
          "carpet": [
           {
            "aaxis": {
             "endlinecolor": "#2a3f5f",
             "gridcolor": "white",
             "linecolor": "white",
             "minorgridcolor": "white",
             "startlinecolor": "#2a3f5f"
            },
            "baxis": {
             "endlinecolor": "#2a3f5f",
             "gridcolor": "white",
             "linecolor": "white",
             "minorgridcolor": "white",
             "startlinecolor": "#2a3f5f"
            },
            "type": "carpet"
           }
          ],
          "choropleth": [
           {
            "colorbar": {
             "outlinewidth": 0,
             "ticks": ""
            },
            "type": "choropleth"
           }
          ],
          "contour": [
           {
            "colorbar": {
             "outlinewidth": 0,
             "ticks": ""
            },
            "colorscale": [
             [
              0,
              "#0d0887"
             ],
             [
              0.1111111111111111,
              "#46039f"
             ],
             [
              0.2222222222222222,
              "#7201a8"
             ],
             [
              0.3333333333333333,
              "#9c179e"
             ],
             [
              0.4444444444444444,
              "#bd3786"
             ],
             [
              0.5555555555555556,
              "#d8576b"
             ],
             [
              0.6666666666666666,
              "#ed7953"
             ],
             [
              0.7777777777777778,
              "#fb9f3a"
             ],
             [
              0.8888888888888888,
              "#fdca26"
             ],
             [
              1,
              "#f0f921"
             ]
            ],
            "type": "contour"
           }
          ],
          "contourcarpet": [
           {
            "colorbar": {
             "outlinewidth": 0,
             "ticks": ""
            },
            "type": "contourcarpet"
           }
          ],
          "heatmap": [
           {
            "colorbar": {
             "outlinewidth": 0,
             "ticks": ""
            },
            "colorscale": [
             [
              0,
              "#0d0887"
             ],
             [
              0.1111111111111111,
              "#46039f"
             ],
             [
              0.2222222222222222,
              "#7201a8"
             ],
             [
              0.3333333333333333,
              "#9c179e"
             ],
             [
              0.4444444444444444,
              "#bd3786"
             ],
             [
              0.5555555555555556,
              "#d8576b"
             ],
             [
              0.6666666666666666,
              "#ed7953"
             ],
             [
              0.7777777777777778,
              "#fb9f3a"
             ],
             [
              0.8888888888888888,
              "#fdca26"
             ],
             [
              1,
              "#f0f921"
             ]
            ],
            "type": "heatmap"
           }
          ],
          "heatmapgl": [
           {
            "colorbar": {
             "outlinewidth": 0,
             "ticks": ""
            },
            "colorscale": [
             [
              0,
              "#0d0887"
             ],
             [
              0.1111111111111111,
              "#46039f"
             ],
             [
              0.2222222222222222,
              "#7201a8"
             ],
             [
              0.3333333333333333,
              "#9c179e"
             ],
             [
              0.4444444444444444,
              "#bd3786"
             ],
             [
              0.5555555555555556,
              "#d8576b"
             ],
             [
              0.6666666666666666,
              "#ed7953"
             ],
             [
              0.7777777777777778,
              "#fb9f3a"
             ],
             [
              0.8888888888888888,
              "#fdca26"
             ],
             [
              1,
              "#f0f921"
             ]
            ],
            "type": "heatmapgl"
           }
          ],
          "histogram": [
           {
            "marker": {
             "pattern": {
              "fillmode": "overlay",
              "size": 10,
              "solidity": 0.2
             }
            },
            "type": "histogram"
           }
          ],
          "histogram2d": [
           {
            "colorbar": {
             "outlinewidth": 0,
             "ticks": ""
            },
            "colorscale": [
             [
              0,
              "#0d0887"
             ],
             [
              0.1111111111111111,
              "#46039f"
             ],
             [
              0.2222222222222222,
              "#7201a8"
             ],
             [
              0.3333333333333333,
              "#9c179e"
             ],
             [
              0.4444444444444444,
              "#bd3786"
             ],
             [
              0.5555555555555556,
              "#d8576b"
             ],
             [
              0.6666666666666666,
              "#ed7953"
             ],
             [
              0.7777777777777778,
              "#fb9f3a"
             ],
             [
              0.8888888888888888,
              "#fdca26"
             ],
             [
              1,
              "#f0f921"
             ]
            ],
            "type": "histogram2d"
           }
          ],
          "histogram2dcontour": [
           {
            "colorbar": {
             "outlinewidth": 0,
             "ticks": ""
            },
            "colorscale": [
             [
              0,
              "#0d0887"
             ],
             [
              0.1111111111111111,
              "#46039f"
             ],
             [
              0.2222222222222222,
              "#7201a8"
             ],
             [
              0.3333333333333333,
              "#9c179e"
             ],
             [
              0.4444444444444444,
              "#bd3786"
             ],
             [
              0.5555555555555556,
              "#d8576b"
             ],
             [
              0.6666666666666666,
              "#ed7953"
             ],
             [
              0.7777777777777778,
              "#fb9f3a"
             ],
             [
              0.8888888888888888,
              "#fdca26"
             ],
             [
              1,
              "#f0f921"
             ]
            ],
            "type": "histogram2dcontour"
           }
          ],
          "mesh3d": [
           {
            "colorbar": {
             "outlinewidth": 0,
             "ticks": ""
            },
            "type": "mesh3d"
           }
          ],
          "parcoords": [
           {
            "line": {
             "colorbar": {
              "outlinewidth": 0,
              "ticks": ""
             }
            },
            "type": "parcoords"
           }
          ],
          "pie": [
           {
            "automargin": true,
            "type": "pie"
           }
          ],
          "scatter": [
           {
            "marker": {
             "colorbar": {
              "outlinewidth": 0,
              "ticks": ""
             }
            },
            "type": "scatter"
           }
          ],
          "scatter3d": [
           {
            "line": {
             "colorbar": {
              "outlinewidth": 0,
              "ticks": ""
             }
            },
            "marker": {
             "colorbar": {
              "outlinewidth": 0,
              "ticks": ""
             }
            },
            "type": "scatter3d"
           }
          ],
          "scattercarpet": [
           {
            "marker": {
             "colorbar": {
              "outlinewidth": 0,
              "ticks": ""
             }
            },
            "type": "scattercarpet"
           }
          ],
          "scattergeo": [
           {
            "marker": {
             "colorbar": {
              "outlinewidth": 0,
              "ticks": ""
             }
            },
            "type": "scattergeo"
           }
          ],
          "scattergl": [
           {
            "marker": {
             "colorbar": {
              "outlinewidth": 0,
              "ticks": ""
             }
            },
            "type": "scattergl"
           }
          ],
          "scattermapbox": [
           {
            "marker": {
             "colorbar": {
              "outlinewidth": 0,
              "ticks": ""
             }
            },
            "type": "scattermapbox"
           }
          ],
          "scatterpolar": [
           {
            "marker": {
             "colorbar": {
              "outlinewidth": 0,
              "ticks": ""
             }
            },
            "type": "scatterpolar"
           }
          ],
          "scatterpolargl": [
           {
            "marker": {
             "colorbar": {
              "outlinewidth": 0,
              "ticks": ""
             }
            },
            "type": "scatterpolargl"
           }
          ],
          "scatterternary": [
           {
            "marker": {
             "colorbar": {
              "outlinewidth": 0,
              "ticks": ""
             }
            },
            "type": "scatterternary"
           }
          ],
          "surface": [
           {
            "colorbar": {
             "outlinewidth": 0,
             "ticks": ""
            },
            "colorscale": [
             [
              0,
              "#0d0887"
             ],
             [
              0.1111111111111111,
              "#46039f"
             ],
             [
              0.2222222222222222,
              "#7201a8"
             ],
             [
              0.3333333333333333,
              "#9c179e"
             ],
             [
              0.4444444444444444,
              "#bd3786"
             ],
             [
              0.5555555555555556,
              "#d8576b"
             ],
             [
              0.6666666666666666,
              "#ed7953"
             ],
             [
              0.7777777777777778,
              "#fb9f3a"
             ],
             [
              0.8888888888888888,
              "#fdca26"
             ],
             [
              1,
              "#f0f921"
             ]
            ],
            "type": "surface"
           }
          ],
          "table": [
           {
            "cells": {
             "fill": {
              "color": "#EBF0F8"
             },
             "line": {
              "color": "white"
             }
            },
            "header": {
             "fill": {
              "color": "#C8D4E3"
             },
             "line": {
              "color": "white"
             }
            },
            "type": "table"
           }
          ]
         },
         "layout": {
          "annotationdefaults": {
           "arrowcolor": "#2a3f5f",
           "arrowhead": 0,
           "arrowwidth": 1
          },
          "autotypenumbers": "strict",
          "coloraxis": {
           "colorbar": {
            "outlinewidth": 0,
            "ticks": ""
           }
          },
          "colorscale": {
           "diverging": [
            [
             0,
             "#8e0152"
            ],
            [
             0.1,
             "#c51b7d"
            ],
            [
             0.2,
             "#de77ae"
            ],
            [
             0.3,
             "#f1b6da"
            ],
            [
             0.4,
             "#fde0ef"
            ],
            [
             0.5,
             "#f7f7f7"
            ],
            [
             0.6,
             "#e6f5d0"
            ],
            [
             0.7,
             "#b8e186"
            ],
            [
             0.8,
             "#7fbc41"
            ],
            [
             0.9,
             "#4d9221"
            ],
            [
             1,
             "#276419"
            ]
           ],
           "sequential": [
            [
             0,
             "#0d0887"
            ],
            [
             0.1111111111111111,
             "#46039f"
            ],
            [
             0.2222222222222222,
             "#7201a8"
            ],
            [
             0.3333333333333333,
             "#9c179e"
            ],
            [
             0.4444444444444444,
             "#bd3786"
            ],
            [
             0.5555555555555556,
             "#d8576b"
            ],
            [
             0.6666666666666666,
             "#ed7953"
            ],
            [
             0.7777777777777778,
             "#fb9f3a"
            ],
            [
             0.8888888888888888,
             "#fdca26"
            ],
            [
             1,
             "#f0f921"
            ]
           ],
           "sequentialminus": [
            [
             0,
             "#0d0887"
            ],
            [
             0.1111111111111111,
             "#46039f"
            ],
            [
             0.2222222222222222,
             "#7201a8"
            ],
            [
             0.3333333333333333,
             "#9c179e"
            ],
            [
             0.4444444444444444,
             "#bd3786"
            ],
            [
             0.5555555555555556,
             "#d8576b"
            ],
            [
             0.6666666666666666,
             "#ed7953"
            ],
            [
             0.7777777777777778,
             "#fb9f3a"
            ],
            [
             0.8888888888888888,
             "#fdca26"
            ],
            [
             1,
             "#f0f921"
            ]
           ]
          },
          "colorway": [
           "#636efa",
           "#EF553B",
           "#00cc96",
           "#ab63fa",
           "#FFA15A",
           "#19d3f3",
           "#FF6692",
           "#B6E880",
           "#FF97FF",
           "#FECB52"
          ],
          "font": {
           "color": "#2a3f5f"
          },
          "geo": {
           "bgcolor": "white",
           "lakecolor": "white",
           "landcolor": "#E5ECF6",
           "showlakes": true,
           "showland": true,
           "subunitcolor": "white"
          },
          "hoverlabel": {
           "align": "left"
          },
          "hovermode": "closest",
          "mapbox": {
           "style": "light"
          },
          "paper_bgcolor": "white",
          "plot_bgcolor": "#E5ECF6",
          "polar": {
           "angularaxis": {
            "gridcolor": "white",
            "linecolor": "white",
            "ticks": ""
           },
           "bgcolor": "#E5ECF6",
           "radialaxis": {
            "gridcolor": "white",
            "linecolor": "white",
            "ticks": ""
           }
          },
          "scene": {
           "xaxis": {
            "backgroundcolor": "#E5ECF6",
            "gridcolor": "white",
            "gridwidth": 2,
            "linecolor": "white",
            "showbackground": true,
            "ticks": "",
            "zerolinecolor": "white"
           },
           "yaxis": {
            "backgroundcolor": "#E5ECF6",
            "gridcolor": "white",
            "gridwidth": 2,
            "linecolor": "white",
            "showbackground": true,
            "ticks": "",
            "zerolinecolor": "white"
           },
           "zaxis": {
            "backgroundcolor": "#E5ECF6",
            "gridcolor": "white",
            "gridwidth": 2,
            "linecolor": "white",
            "showbackground": true,
            "ticks": "",
            "zerolinecolor": "white"
           }
          },
          "shapedefaults": {
           "line": {
            "color": "#2a3f5f"
           }
          },
          "ternary": {
           "aaxis": {
            "gridcolor": "white",
            "linecolor": "white",
            "ticks": ""
           },
           "baxis": {
            "gridcolor": "white",
            "linecolor": "white",
            "ticks": ""
           },
           "bgcolor": "#E5ECF6",
           "caxis": {
            "gridcolor": "white",
            "linecolor": "white",
            "ticks": ""
           }
          },
          "title": {
           "x": 0.05
          },
          "xaxis": {
           "automargin": true,
           "gridcolor": "white",
           "linecolor": "white",
           "ticks": "",
           "title": {
            "standoff": 15
           },
           "zerolinecolor": "white",
           "zerolinewidth": 2
          },
          "yaxis": {
           "automargin": true,
           "gridcolor": "white",
           "linecolor": "white",
           "ticks": "",
           "title": {
            "standoff": 15
           },
           "zerolinecolor": "white",
           "zerolinewidth": 2
          }
         }
        },
        "title": {
         "text": "Количество поставок 3P по методам транспортировки в 2023 году"
        },
        "xaxis": {
         "anchor": "y",
         "categoryarray": [
          48,
          49,
          50,
          51,
          52
         ],
         "categoryorder": "array",
         "domain": [
          0,
          1
         ],
         "title": {
          "text": "Номер недели"
         }
        },
        "yaxis": {
         "anchor": "x",
         "domain": [
          0,
          1
         ],
         "title": {
          "text": "Количество поставок"
         }
        }
       }
      },
      "text/html": [
       "<div>                            <div id=\"efad0e56-a6b1-49b4-9772-0da2dcfca4e4\" class=\"plotly-graph-div\" style=\"height:525px; width:100%;\"></div>            <script type=\"text/javascript\">                require([\"plotly\"], function(Plotly) {                    window.PLOTLYENV=window.PLOTLYENV || {};                                    if (document.getElementById(\"efad0e56-a6b1-49b4-9772-0da2dcfca4e4\")) {                    Plotly.newPlot(                        \"efad0e56-a6b1-49b4-9772-0da2dcfca4e4\",                        [{\"alignmentgroup\":\"True\",\"customdata\":[[\"air\"],[\"air\"],[\"air\"],[\"air\"],[\"air\"]],\"hovertemplate\":\"Transportation method=%{customdata[0]}<br>\\u041a\\u043e\\u043b\\u0438\\u0447\\u0435\\u0441\\u0442\\u0432\\u043e \\u043f\\u043e\\u0441\\u0442\\u0430\\u0432\\u043e\\u043a=%{y}<extra></extra>\",\"legendgroup\":\"air\",\"marker\":{\"color\":\"#636efa\",\"pattern\":{\"shape\":\"\"}},\"name\":\"air\",\"offsetgroup\":\"air\",\"orientation\":\"v\",\"showlegend\":true,\"textposition\":\"auto\",\"x\":[48,49,50,51,52],\"xaxis\":\"x\",\"y\":[3,23,27,19,13],\"yaxis\":\"y\",\"type\":\"bar\"},{\"alignmentgroup\":\"True\",\"customdata\":[[\"land\"],[\"land\"],[\"land\"],[\"land\"],[\"land\"]],\"hovertemplate\":\"Transportation method=%{customdata[0]}<br>\\u041a\\u043e\\u043b\\u0438\\u0447\\u0435\\u0441\\u0442\\u0432\\u043e \\u043f\\u043e\\u0441\\u0442\\u0430\\u0432\\u043e\\u043a=%{y}<extra></extra>\",\"legendgroup\":\"land\",\"marker\":{\"color\":\"#EF553B\",\"pattern\":{\"shape\":\"\"}},\"name\":\"land\",\"offsetgroup\":\"land\",\"orientation\":\"v\",\"showlegend\":true,\"textposition\":\"auto\",\"x\":[48,49,50,51,52],\"xaxis\":\"x\",\"y\":[2,2,5,9,5],\"yaxis\":\"y\",\"type\":\"bar\"}],                        {\"template\":{\"data\":{\"bar\":[{\"error_x\":{\"color\":\"#2a3f5f\"},\"error_y\":{\"color\":\"#2a3f5f\"},\"marker\":{\"line\":{\"color\":\"#E5ECF6\",\"width\":0.5},\"pattern\":{\"fillmode\":\"overlay\",\"size\":10,\"solidity\":0.2}},\"type\":\"bar\"}],\"barpolar\":[{\"marker\":{\"line\":{\"color\":\"#E5ECF6\",\"width\":0.5},\"pattern\":{\"fillmode\":\"overlay\",\"size\":10,\"solidity\":0.2}},\"type\":\"barpolar\"}],\"carpet\":[{\"aaxis\":{\"endlinecolor\":\"#2a3f5f\",\"gridcolor\":\"white\",\"linecolor\":\"white\",\"minorgridcolor\":\"white\",\"startlinecolor\":\"#2a3f5f\"},\"baxis\":{\"endlinecolor\":\"#2a3f5f\",\"gridcolor\":\"white\",\"linecolor\":\"white\",\"minorgridcolor\":\"white\",\"startlinecolor\":\"#2a3f5f\"},\"type\":\"carpet\"}],\"choropleth\":[{\"colorbar\":{\"outlinewidth\":0,\"ticks\":\"\"},\"type\":\"choropleth\"}],\"contour\":[{\"colorbar\":{\"outlinewidth\":0,\"ticks\":\"\"},\"colorscale\":[[0.0,\"#0d0887\"],[0.1111111111111111,\"#46039f\"],[0.2222222222222222,\"#7201a8\"],[0.3333333333333333,\"#9c179e\"],[0.4444444444444444,\"#bd3786\"],[0.5555555555555556,\"#d8576b\"],[0.6666666666666666,\"#ed7953\"],[0.7777777777777778,\"#fb9f3a\"],[0.8888888888888888,\"#fdca26\"],[1.0,\"#f0f921\"]],\"type\":\"contour\"}],\"contourcarpet\":[{\"colorbar\":{\"outlinewidth\":0,\"ticks\":\"\"},\"type\":\"contourcarpet\"}],\"heatmap\":[{\"colorbar\":{\"outlinewidth\":0,\"ticks\":\"\"},\"colorscale\":[[0.0,\"#0d0887\"],[0.1111111111111111,\"#46039f\"],[0.2222222222222222,\"#7201a8\"],[0.3333333333333333,\"#9c179e\"],[0.4444444444444444,\"#bd3786\"],[0.5555555555555556,\"#d8576b\"],[0.6666666666666666,\"#ed7953\"],[0.7777777777777778,\"#fb9f3a\"],[0.8888888888888888,\"#fdca26\"],[1.0,\"#f0f921\"]],\"type\":\"heatmap\"}],\"heatmapgl\":[{\"colorbar\":{\"outlinewidth\":0,\"ticks\":\"\"},\"colorscale\":[[0.0,\"#0d0887\"],[0.1111111111111111,\"#46039f\"],[0.2222222222222222,\"#7201a8\"],[0.3333333333333333,\"#9c179e\"],[0.4444444444444444,\"#bd3786\"],[0.5555555555555556,\"#d8576b\"],[0.6666666666666666,\"#ed7953\"],[0.7777777777777778,\"#fb9f3a\"],[0.8888888888888888,\"#fdca26\"],[1.0,\"#f0f921\"]],\"type\":\"heatmapgl\"}],\"histogram\":[{\"marker\":{\"pattern\":{\"fillmode\":\"overlay\",\"size\":10,\"solidity\":0.2}},\"type\":\"histogram\"}],\"histogram2d\":[{\"colorbar\":{\"outlinewidth\":0,\"ticks\":\"\"},\"colorscale\":[[0.0,\"#0d0887\"],[0.1111111111111111,\"#46039f\"],[0.2222222222222222,\"#7201a8\"],[0.3333333333333333,\"#9c179e\"],[0.4444444444444444,\"#bd3786\"],[0.5555555555555556,\"#d8576b\"],[0.6666666666666666,\"#ed7953\"],[0.7777777777777778,\"#fb9f3a\"],[0.8888888888888888,\"#fdca26\"],[1.0,\"#f0f921\"]],\"type\":\"histogram2d\"}],\"histogram2dcontour\":[{\"colorbar\":{\"outlinewidth\":0,\"ticks\":\"\"},\"colorscale\":[[0.0,\"#0d0887\"],[0.1111111111111111,\"#46039f\"],[0.2222222222222222,\"#7201a8\"],[0.3333333333333333,\"#9c179e\"],[0.4444444444444444,\"#bd3786\"],[0.5555555555555556,\"#d8576b\"],[0.6666666666666666,\"#ed7953\"],[0.7777777777777778,\"#fb9f3a\"],[0.8888888888888888,\"#fdca26\"],[1.0,\"#f0f921\"]],\"type\":\"histogram2dcontour\"}],\"mesh3d\":[{\"colorbar\":{\"outlinewidth\":0,\"ticks\":\"\"},\"type\":\"mesh3d\"}],\"parcoords\":[{\"line\":{\"colorbar\":{\"outlinewidth\":0,\"ticks\":\"\"}},\"type\":\"parcoords\"}],\"pie\":[{\"automargin\":true,\"type\":\"pie\"}],\"scatter\":[{\"marker\":{\"colorbar\":{\"outlinewidth\":0,\"ticks\":\"\"}},\"type\":\"scatter\"}],\"scatter3d\":[{\"line\":{\"colorbar\":{\"outlinewidth\":0,\"ticks\":\"\"}},\"marker\":{\"colorbar\":{\"outlinewidth\":0,\"ticks\":\"\"}},\"type\":\"scatter3d\"}],\"scattercarpet\":[{\"marker\":{\"colorbar\":{\"outlinewidth\":0,\"ticks\":\"\"}},\"type\":\"scattercarpet\"}],\"scattergeo\":[{\"marker\":{\"colorbar\":{\"outlinewidth\":0,\"ticks\":\"\"}},\"type\":\"scattergeo\"}],\"scattergl\":[{\"marker\":{\"colorbar\":{\"outlinewidth\":0,\"ticks\":\"\"}},\"type\":\"scattergl\"}],\"scattermapbox\":[{\"marker\":{\"colorbar\":{\"outlinewidth\":0,\"ticks\":\"\"}},\"type\":\"scattermapbox\"}],\"scatterpolar\":[{\"marker\":{\"colorbar\":{\"outlinewidth\":0,\"ticks\":\"\"}},\"type\":\"scatterpolar\"}],\"scatterpolargl\":[{\"marker\":{\"colorbar\":{\"outlinewidth\":0,\"ticks\":\"\"}},\"type\":\"scatterpolargl\"}],\"scatterternary\":[{\"marker\":{\"colorbar\":{\"outlinewidth\":0,\"ticks\":\"\"}},\"type\":\"scatterternary\"}],\"surface\":[{\"colorbar\":{\"outlinewidth\":0,\"ticks\":\"\"},\"colorscale\":[[0.0,\"#0d0887\"],[0.1111111111111111,\"#46039f\"],[0.2222222222222222,\"#7201a8\"],[0.3333333333333333,\"#9c179e\"],[0.4444444444444444,\"#bd3786\"],[0.5555555555555556,\"#d8576b\"],[0.6666666666666666,\"#ed7953\"],[0.7777777777777778,\"#fb9f3a\"],[0.8888888888888888,\"#fdca26\"],[1.0,\"#f0f921\"]],\"type\":\"surface\"}],\"table\":[{\"cells\":{\"fill\":{\"color\":\"#EBF0F8\"},\"line\":{\"color\":\"white\"}},\"header\":{\"fill\":{\"color\":\"#C8D4E3\"},\"line\":{\"color\":\"white\"}},\"type\":\"table\"}]},\"layout\":{\"annotationdefaults\":{\"arrowcolor\":\"#2a3f5f\",\"arrowhead\":0,\"arrowwidth\":1},\"autotypenumbers\":\"strict\",\"coloraxis\":{\"colorbar\":{\"outlinewidth\":0,\"ticks\":\"\"}},\"colorscale\":{\"diverging\":[[0,\"#8e0152\"],[0.1,\"#c51b7d\"],[0.2,\"#de77ae\"],[0.3,\"#f1b6da\"],[0.4,\"#fde0ef\"],[0.5,\"#f7f7f7\"],[0.6,\"#e6f5d0\"],[0.7,\"#b8e186\"],[0.8,\"#7fbc41\"],[0.9,\"#4d9221\"],[1,\"#276419\"]],\"sequential\":[[0.0,\"#0d0887\"],[0.1111111111111111,\"#46039f\"],[0.2222222222222222,\"#7201a8\"],[0.3333333333333333,\"#9c179e\"],[0.4444444444444444,\"#bd3786\"],[0.5555555555555556,\"#d8576b\"],[0.6666666666666666,\"#ed7953\"],[0.7777777777777778,\"#fb9f3a\"],[0.8888888888888888,\"#fdca26\"],[1.0,\"#f0f921\"]],\"sequentialminus\":[[0.0,\"#0d0887\"],[0.1111111111111111,\"#46039f\"],[0.2222222222222222,\"#7201a8\"],[0.3333333333333333,\"#9c179e\"],[0.4444444444444444,\"#bd3786\"],[0.5555555555555556,\"#d8576b\"],[0.6666666666666666,\"#ed7953\"],[0.7777777777777778,\"#fb9f3a\"],[0.8888888888888888,\"#fdca26\"],[1.0,\"#f0f921\"]]},\"colorway\":[\"#636efa\",\"#EF553B\",\"#00cc96\",\"#ab63fa\",\"#FFA15A\",\"#19d3f3\",\"#FF6692\",\"#B6E880\",\"#FF97FF\",\"#FECB52\"],\"font\":{\"color\":\"#2a3f5f\"},\"geo\":{\"bgcolor\":\"white\",\"lakecolor\":\"white\",\"landcolor\":\"#E5ECF6\",\"showlakes\":true,\"showland\":true,\"subunitcolor\":\"white\"},\"hoverlabel\":{\"align\":\"left\"},\"hovermode\":\"closest\",\"mapbox\":{\"style\":\"light\"},\"paper_bgcolor\":\"white\",\"plot_bgcolor\":\"#E5ECF6\",\"polar\":{\"angularaxis\":{\"gridcolor\":\"white\",\"linecolor\":\"white\",\"ticks\":\"\"},\"bgcolor\":\"#E5ECF6\",\"radialaxis\":{\"gridcolor\":\"white\",\"linecolor\":\"white\",\"ticks\":\"\"}},\"scene\":{\"xaxis\":{\"backgroundcolor\":\"#E5ECF6\",\"gridcolor\":\"white\",\"gridwidth\":2,\"linecolor\":\"white\",\"showbackground\":true,\"ticks\":\"\",\"zerolinecolor\":\"white\"},\"yaxis\":{\"backgroundcolor\":\"#E5ECF6\",\"gridcolor\":\"white\",\"gridwidth\":2,\"linecolor\":\"white\",\"showbackground\":true,\"ticks\":\"\",\"zerolinecolor\":\"white\"},\"zaxis\":{\"backgroundcolor\":\"#E5ECF6\",\"gridcolor\":\"white\",\"gridwidth\":2,\"linecolor\":\"white\",\"showbackground\":true,\"ticks\":\"\",\"zerolinecolor\":\"white\"}},\"shapedefaults\":{\"line\":{\"color\":\"#2a3f5f\"}},\"ternary\":{\"aaxis\":{\"gridcolor\":\"white\",\"linecolor\":\"white\",\"ticks\":\"\"},\"baxis\":{\"gridcolor\":\"white\",\"linecolor\":\"white\",\"ticks\":\"\"},\"bgcolor\":\"#E5ECF6\",\"caxis\":{\"gridcolor\":\"white\",\"linecolor\":\"white\",\"ticks\":\"\"}},\"title\":{\"x\":0.05},\"xaxis\":{\"automargin\":true,\"gridcolor\":\"white\",\"linecolor\":\"white\",\"ticks\":\"\",\"title\":{\"standoff\":15},\"zerolinecolor\":\"white\",\"zerolinewidth\":2},\"yaxis\":{\"automargin\":true,\"gridcolor\":\"white\",\"linecolor\":\"white\",\"ticks\":\"\",\"title\":{\"standoff\":15},\"zerolinecolor\":\"white\",\"zerolinewidth\":2}}},\"xaxis\":{\"anchor\":\"y\",\"domain\":[0.0,1.0],\"title\":{\"text\":\"\\u041d\\u043e\\u043c\\u0435\\u0440 \\u043d\\u0435\\u0434\\u0435\\u043b\\u0438\"},\"categoryorder\":\"array\",\"categoryarray\":[48,49,50,51,52]},\"yaxis\":{\"anchor\":\"x\",\"domain\":[0.0,1.0],\"title\":{\"text\":\"\\u041a\\u043e\\u043b\\u0438\\u0447\\u0435\\u0441\\u0442\\u0432\\u043e \\u043f\\u043e\\u0441\\u0442\\u0430\\u0432\\u043e\\u043a\"}},\"legend\":{\"title\":{\"text\":\"\\u041c\\u0435\\u0442\\u043e\\u0434 \\u0442\\u0440\\u0430\\u043d\\u0441\\u043f\\u043e\\u0440\\u0442\\u0438\\u0440\\u043e\\u0432\\u043a\\u0438\"},\"tracegroupgap\":0},\"title\":{\"text\":\"\\u041a\\u043e\\u043b\\u0438\\u0447\\u0435\\u0441\\u0442\\u0432\\u043e \\u043f\\u043e\\u0441\\u0442\\u0430\\u0432\\u043e\\u043a 3P \\u043f\\u043e \\u043c\\u0435\\u0442\\u043e\\u0434\\u0430\\u043c \\u0442\\u0440\\u0430\\u043d\\u0441\\u043f\\u043e\\u0440\\u0442\\u0438\\u0440\\u043e\\u0432\\u043a\\u0438 \\u0432 2023 \\u0433\\u043e\\u0434\\u0443\"},\"barmode\":\"group\"},                        {\"responsive\": true}                    ).then(function(){\n",
       "                            \n",
       "var gd = document.getElementById('efad0e56-a6b1-49b4-9772-0da2dcfca4e4');\n",
       "var x = new MutationObserver(function (mutations, observer) {{\n",
       "        var display = window.getComputedStyle(gd).display;\n",
       "        if (!display || display === 'none') {{\n",
       "            console.log([gd, 'removed!']);\n",
       "            Plotly.purge(gd);\n",
       "            observer.disconnect();\n",
       "        }}\n",
       "}});\n",
       "\n",
       "// Listen for the removal of the full notebook cells\n",
       "var notebookContainer = gd.closest('#notebook-container');\n",
       "if (notebookContainer) {{\n",
       "    x.observe(notebookContainer, {childList: true});\n",
       "}}\n",
       "\n",
       "// Listen for the clearing of the current output cell\n",
       "var outputEl = gd.closest('.output');\n",
       "if (outputEl) {{\n",
       "    x.observe(outputEl, {childList: true});\n",
       "}}\n",
       "\n",
       "                        })                };                });            </script>        </div>"
      ]
     },
     "metadata": {},
     "output_type": "display_data"
    },
    {
     "data": {
      "application/vnd.plotly.v1+json": {
       "config": {
        "plotlyServerURL": "https://plot.ly"
       },
       "data": [
        {
         "alignmentgroup": "True",
         "customdata": [
          [
           "air"
          ],
          [
           "air"
          ],
          [
           "air"
          ],
          [
           "air"
          ],
          [
           "air"
          ]
         ],
         "hovertemplate": "Transportation method=%{customdata[0]}<br>Количество поставок=%{y}<extra></extra>",
         "legendgroup": "air",
         "marker": {
          "color": "#636efa",
          "pattern": {
           "shape": ""
          }
         },
         "name": "air",
         "offsetgroup": "air",
         "orientation": "v",
         "showlegend": true,
         "textposition": "auto",
         "type": "bar",
         "x": [
          1,
          2,
          3,
          4,
          5
         ],
         "xaxis": "x",
         "y": [
          17,
          11,
          4,
          13,
          2
         ],
         "yaxis": "y"
        },
        {
         "alignmentgroup": "True",
         "customdata": [
          [
           "land"
          ],
          [
           "land"
          ],
          [
           "land"
          ],
          [
           "land"
          ],
          [
           "land"
          ]
         ],
         "hovertemplate": "Transportation method=%{customdata[0]}<br>Количество поставок=%{y}<extra></extra>",
         "legendgroup": "land",
         "marker": {
          "color": "#EF553B",
          "pattern": {
           "shape": ""
          }
         },
         "name": "land",
         "offsetgroup": "land",
         "orientation": "v",
         "showlegend": true,
         "textposition": "auto",
         "type": "bar",
         "x": [
          1,
          2,
          3,
          4,
          5
         ],
         "xaxis": "x",
         "y": [
          3,
          10,
          8,
          21,
          20
         ],
         "yaxis": "y"
        }
       ],
       "layout": {
        "barmode": "group",
        "legend": {
         "title": {
          "text": "Метод транспортировки"
         },
         "tracegroupgap": 0
        },
        "template": {
         "data": {
          "bar": [
           {
            "error_x": {
             "color": "#2a3f5f"
            },
            "error_y": {
             "color": "#2a3f5f"
            },
            "marker": {
             "line": {
              "color": "#E5ECF6",
              "width": 0.5
             },
             "pattern": {
              "fillmode": "overlay",
              "size": 10,
              "solidity": 0.2
             }
            },
            "type": "bar"
           }
          ],
          "barpolar": [
           {
            "marker": {
             "line": {
              "color": "#E5ECF6",
              "width": 0.5
             },
             "pattern": {
              "fillmode": "overlay",
              "size": 10,
              "solidity": 0.2
             }
            },
            "type": "barpolar"
           }
          ],
          "carpet": [
           {
            "aaxis": {
             "endlinecolor": "#2a3f5f",
             "gridcolor": "white",
             "linecolor": "white",
             "minorgridcolor": "white",
             "startlinecolor": "#2a3f5f"
            },
            "baxis": {
             "endlinecolor": "#2a3f5f",
             "gridcolor": "white",
             "linecolor": "white",
             "minorgridcolor": "white",
             "startlinecolor": "#2a3f5f"
            },
            "type": "carpet"
           }
          ],
          "choropleth": [
           {
            "colorbar": {
             "outlinewidth": 0,
             "ticks": ""
            },
            "type": "choropleth"
           }
          ],
          "contour": [
           {
            "colorbar": {
             "outlinewidth": 0,
             "ticks": ""
            },
            "colorscale": [
             [
              0,
              "#0d0887"
             ],
             [
              0.1111111111111111,
              "#46039f"
             ],
             [
              0.2222222222222222,
              "#7201a8"
             ],
             [
              0.3333333333333333,
              "#9c179e"
             ],
             [
              0.4444444444444444,
              "#bd3786"
             ],
             [
              0.5555555555555556,
              "#d8576b"
             ],
             [
              0.6666666666666666,
              "#ed7953"
             ],
             [
              0.7777777777777778,
              "#fb9f3a"
             ],
             [
              0.8888888888888888,
              "#fdca26"
             ],
             [
              1,
              "#f0f921"
             ]
            ],
            "type": "contour"
           }
          ],
          "contourcarpet": [
           {
            "colorbar": {
             "outlinewidth": 0,
             "ticks": ""
            },
            "type": "contourcarpet"
           }
          ],
          "heatmap": [
           {
            "colorbar": {
             "outlinewidth": 0,
             "ticks": ""
            },
            "colorscale": [
             [
              0,
              "#0d0887"
             ],
             [
              0.1111111111111111,
              "#46039f"
             ],
             [
              0.2222222222222222,
              "#7201a8"
             ],
             [
              0.3333333333333333,
              "#9c179e"
             ],
             [
              0.4444444444444444,
              "#bd3786"
             ],
             [
              0.5555555555555556,
              "#d8576b"
             ],
             [
              0.6666666666666666,
              "#ed7953"
             ],
             [
              0.7777777777777778,
              "#fb9f3a"
             ],
             [
              0.8888888888888888,
              "#fdca26"
             ],
             [
              1,
              "#f0f921"
             ]
            ],
            "type": "heatmap"
           }
          ],
          "heatmapgl": [
           {
            "colorbar": {
             "outlinewidth": 0,
             "ticks": ""
            },
            "colorscale": [
             [
              0,
              "#0d0887"
             ],
             [
              0.1111111111111111,
              "#46039f"
             ],
             [
              0.2222222222222222,
              "#7201a8"
             ],
             [
              0.3333333333333333,
              "#9c179e"
             ],
             [
              0.4444444444444444,
              "#bd3786"
             ],
             [
              0.5555555555555556,
              "#d8576b"
             ],
             [
              0.6666666666666666,
              "#ed7953"
             ],
             [
              0.7777777777777778,
              "#fb9f3a"
             ],
             [
              0.8888888888888888,
              "#fdca26"
             ],
             [
              1,
              "#f0f921"
             ]
            ],
            "type": "heatmapgl"
           }
          ],
          "histogram": [
           {
            "marker": {
             "pattern": {
              "fillmode": "overlay",
              "size": 10,
              "solidity": 0.2
             }
            },
            "type": "histogram"
           }
          ],
          "histogram2d": [
           {
            "colorbar": {
             "outlinewidth": 0,
             "ticks": ""
            },
            "colorscale": [
             [
              0,
              "#0d0887"
             ],
             [
              0.1111111111111111,
              "#46039f"
             ],
             [
              0.2222222222222222,
              "#7201a8"
             ],
             [
              0.3333333333333333,
              "#9c179e"
             ],
             [
              0.4444444444444444,
              "#bd3786"
             ],
             [
              0.5555555555555556,
              "#d8576b"
             ],
             [
              0.6666666666666666,
              "#ed7953"
             ],
             [
              0.7777777777777778,
              "#fb9f3a"
             ],
             [
              0.8888888888888888,
              "#fdca26"
             ],
             [
              1,
              "#f0f921"
             ]
            ],
            "type": "histogram2d"
           }
          ],
          "histogram2dcontour": [
           {
            "colorbar": {
             "outlinewidth": 0,
             "ticks": ""
            },
            "colorscale": [
             [
              0,
              "#0d0887"
             ],
             [
              0.1111111111111111,
              "#46039f"
             ],
             [
              0.2222222222222222,
              "#7201a8"
             ],
             [
              0.3333333333333333,
              "#9c179e"
             ],
             [
              0.4444444444444444,
              "#bd3786"
             ],
             [
              0.5555555555555556,
              "#d8576b"
             ],
             [
              0.6666666666666666,
              "#ed7953"
             ],
             [
              0.7777777777777778,
              "#fb9f3a"
             ],
             [
              0.8888888888888888,
              "#fdca26"
             ],
             [
              1,
              "#f0f921"
             ]
            ],
            "type": "histogram2dcontour"
           }
          ],
          "mesh3d": [
           {
            "colorbar": {
             "outlinewidth": 0,
             "ticks": ""
            },
            "type": "mesh3d"
           }
          ],
          "parcoords": [
           {
            "line": {
             "colorbar": {
              "outlinewidth": 0,
              "ticks": ""
             }
            },
            "type": "parcoords"
           }
          ],
          "pie": [
           {
            "automargin": true,
            "type": "pie"
           }
          ],
          "scatter": [
           {
            "marker": {
             "colorbar": {
              "outlinewidth": 0,
              "ticks": ""
             }
            },
            "type": "scatter"
           }
          ],
          "scatter3d": [
           {
            "line": {
             "colorbar": {
              "outlinewidth": 0,
              "ticks": ""
             }
            },
            "marker": {
             "colorbar": {
              "outlinewidth": 0,
              "ticks": ""
             }
            },
            "type": "scatter3d"
           }
          ],
          "scattercarpet": [
           {
            "marker": {
             "colorbar": {
              "outlinewidth": 0,
              "ticks": ""
             }
            },
            "type": "scattercarpet"
           }
          ],
          "scattergeo": [
           {
            "marker": {
             "colorbar": {
              "outlinewidth": 0,
              "ticks": ""
             }
            },
            "type": "scattergeo"
           }
          ],
          "scattergl": [
           {
            "marker": {
             "colorbar": {
              "outlinewidth": 0,
              "ticks": ""
             }
            },
            "type": "scattergl"
           }
          ],
          "scattermapbox": [
           {
            "marker": {
             "colorbar": {
              "outlinewidth": 0,
              "ticks": ""
             }
            },
            "type": "scattermapbox"
           }
          ],
          "scatterpolar": [
           {
            "marker": {
             "colorbar": {
              "outlinewidth": 0,
              "ticks": ""
             }
            },
            "type": "scatterpolar"
           }
          ],
          "scatterpolargl": [
           {
            "marker": {
             "colorbar": {
              "outlinewidth": 0,
              "ticks": ""
             }
            },
            "type": "scatterpolargl"
           }
          ],
          "scatterternary": [
           {
            "marker": {
             "colorbar": {
              "outlinewidth": 0,
              "ticks": ""
             }
            },
            "type": "scatterternary"
           }
          ],
          "surface": [
           {
            "colorbar": {
             "outlinewidth": 0,
             "ticks": ""
            },
            "colorscale": [
             [
              0,
              "#0d0887"
             ],
             [
              0.1111111111111111,
              "#46039f"
             ],
             [
              0.2222222222222222,
              "#7201a8"
             ],
             [
              0.3333333333333333,
              "#9c179e"
             ],
             [
              0.4444444444444444,
              "#bd3786"
             ],
             [
              0.5555555555555556,
              "#d8576b"
             ],
             [
              0.6666666666666666,
              "#ed7953"
             ],
             [
              0.7777777777777778,
              "#fb9f3a"
             ],
             [
              0.8888888888888888,
              "#fdca26"
             ],
             [
              1,
              "#f0f921"
             ]
            ],
            "type": "surface"
           }
          ],
          "table": [
           {
            "cells": {
             "fill": {
              "color": "#EBF0F8"
             },
             "line": {
              "color": "white"
             }
            },
            "header": {
             "fill": {
              "color": "#C8D4E3"
             },
             "line": {
              "color": "white"
             }
            },
            "type": "table"
           }
          ]
         },
         "layout": {
          "annotationdefaults": {
           "arrowcolor": "#2a3f5f",
           "arrowhead": 0,
           "arrowwidth": 1
          },
          "autotypenumbers": "strict",
          "coloraxis": {
           "colorbar": {
            "outlinewidth": 0,
            "ticks": ""
           }
          },
          "colorscale": {
           "diverging": [
            [
             0,
             "#8e0152"
            ],
            [
             0.1,
             "#c51b7d"
            ],
            [
             0.2,
             "#de77ae"
            ],
            [
             0.3,
             "#f1b6da"
            ],
            [
             0.4,
             "#fde0ef"
            ],
            [
             0.5,
             "#f7f7f7"
            ],
            [
             0.6,
             "#e6f5d0"
            ],
            [
             0.7,
             "#b8e186"
            ],
            [
             0.8,
             "#7fbc41"
            ],
            [
             0.9,
             "#4d9221"
            ],
            [
             1,
             "#276419"
            ]
           ],
           "sequential": [
            [
             0,
             "#0d0887"
            ],
            [
             0.1111111111111111,
             "#46039f"
            ],
            [
             0.2222222222222222,
             "#7201a8"
            ],
            [
             0.3333333333333333,
             "#9c179e"
            ],
            [
             0.4444444444444444,
             "#bd3786"
            ],
            [
             0.5555555555555556,
             "#d8576b"
            ],
            [
             0.6666666666666666,
             "#ed7953"
            ],
            [
             0.7777777777777778,
             "#fb9f3a"
            ],
            [
             0.8888888888888888,
             "#fdca26"
            ],
            [
             1,
             "#f0f921"
            ]
           ],
           "sequentialminus": [
            [
             0,
             "#0d0887"
            ],
            [
             0.1111111111111111,
             "#46039f"
            ],
            [
             0.2222222222222222,
             "#7201a8"
            ],
            [
             0.3333333333333333,
             "#9c179e"
            ],
            [
             0.4444444444444444,
             "#bd3786"
            ],
            [
             0.5555555555555556,
             "#d8576b"
            ],
            [
             0.6666666666666666,
             "#ed7953"
            ],
            [
             0.7777777777777778,
             "#fb9f3a"
            ],
            [
             0.8888888888888888,
             "#fdca26"
            ],
            [
             1,
             "#f0f921"
            ]
           ]
          },
          "colorway": [
           "#636efa",
           "#EF553B",
           "#00cc96",
           "#ab63fa",
           "#FFA15A",
           "#19d3f3",
           "#FF6692",
           "#B6E880",
           "#FF97FF",
           "#FECB52"
          ],
          "font": {
           "color": "#2a3f5f"
          },
          "geo": {
           "bgcolor": "white",
           "lakecolor": "white",
           "landcolor": "#E5ECF6",
           "showlakes": true,
           "showland": true,
           "subunitcolor": "white"
          },
          "hoverlabel": {
           "align": "left"
          },
          "hovermode": "closest",
          "mapbox": {
           "style": "light"
          },
          "paper_bgcolor": "white",
          "plot_bgcolor": "#E5ECF6",
          "polar": {
           "angularaxis": {
            "gridcolor": "white",
            "linecolor": "white",
            "ticks": ""
           },
           "bgcolor": "#E5ECF6",
           "radialaxis": {
            "gridcolor": "white",
            "linecolor": "white",
            "ticks": ""
           }
          },
          "scene": {
           "xaxis": {
            "backgroundcolor": "#E5ECF6",
            "gridcolor": "white",
            "gridwidth": 2,
            "linecolor": "white",
            "showbackground": true,
            "ticks": "",
            "zerolinecolor": "white"
           },
           "yaxis": {
            "backgroundcolor": "#E5ECF6",
            "gridcolor": "white",
            "gridwidth": 2,
            "linecolor": "white",
            "showbackground": true,
            "ticks": "",
            "zerolinecolor": "white"
           },
           "zaxis": {
            "backgroundcolor": "#E5ECF6",
            "gridcolor": "white",
            "gridwidth": 2,
            "linecolor": "white",
            "showbackground": true,
            "ticks": "",
            "zerolinecolor": "white"
           }
          },
          "shapedefaults": {
           "line": {
            "color": "#2a3f5f"
           }
          },
          "ternary": {
           "aaxis": {
            "gridcolor": "white",
            "linecolor": "white",
            "ticks": ""
           },
           "baxis": {
            "gridcolor": "white",
            "linecolor": "white",
            "ticks": ""
           },
           "bgcolor": "#E5ECF6",
           "caxis": {
            "gridcolor": "white",
            "linecolor": "white",
            "ticks": ""
           }
          },
          "title": {
           "x": 0.05
          },
          "xaxis": {
           "automargin": true,
           "gridcolor": "white",
           "linecolor": "white",
           "ticks": "",
           "title": {
            "standoff": 15
           },
           "zerolinecolor": "white",
           "zerolinewidth": 2
          },
          "yaxis": {
           "automargin": true,
           "gridcolor": "white",
           "linecolor": "white",
           "ticks": "",
           "title": {
            "standoff": 15
           },
           "zerolinecolor": "white",
           "zerolinewidth": 2
          }
         }
        },
        "title": {
         "text": "Количество поставок 3P по методам транспортировки в 2024 году"
        },
        "xaxis": {
         "anchor": "y",
         "categoryarray": [
          1,
          2,
          3,
          4,
          5
         ],
         "categoryorder": "array",
         "domain": [
          0,
          1
         ],
         "title": {
          "text": "Номер недели"
         }
        },
        "yaxis": {
         "anchor": "x",
         "domain": [
          0,
          1
         ],
         "title": {
          "text": "Количество поставок"
         }
        }
       }
      },
      "text/html": [
       "<div>                            <div id=\"568db823-31d6-4f65-b3be-be5c2881b75b\" class=\"plotly-graph-div\" style=\"height:525px; width:100%;\"></div>            <script type=\"text/javascript\">                require([\"plotly\"], function(Plotly) {                    window.PLOTLYENV=window.PLOTLYENV || {};                                    if (document.getElementById(\"568db823-31d6-4f65-b3be-be5c2881b75b\")) {                    Plotly.newPlot(                        \"568db823-31d6-4f65-b3be-be5c2881b75b\",                        [{\"alignmentgroup\":\"True\",\"customdata\":[[\"air\"],[\"air\"],[\"air\"],[\"air\"],[\"air\"]],\"hovertemplate\":\"Transportation method=%{customdata[0]}<br>\\u041a\\u043e\\u043b\\u0438\\u0447\\u0435\\u0441\\u0442\\u0432\\u043e \\u043f\\u043e\\u0441\\u0442\\u0430\\u0432\\u043e\\u043a=%{y}<extra></extra>\",\"legendgroup\":\"air\",\"marker\":{\"color\":\"#636efa\",\"pattern\":{\"shape\":\"\"}},\"name\":\"air\",\"offsetgroup\":\"air\",\"orientation\":\"v\",\"showlegend\":true,\"textposition\":\"auto\",\"x\":[1,2,3,4,5],\"xaxis\":\"x\",\"y\":[17,11,4,13,2],\"yaxis\":\"y\",\"type\":\"bar\"},{\"alignmentgroup\":\"True\",\"customdata\":[[\"land\"],[\"land\"],[\"land\"],[\"land\"],[\"land\"]],\"hovertemplate\":\"Transportation method=%{customdata[0]}<br>\\u041a\\u043e\\u043b\\u0438\\u0447\\u0435\\u0441\\u0442\\u0432\\u043e \\u043f\\u043e\\u0441\\u0442\\u0430\\u0432\\u043e\\u043a=%{y}<extra></extra>\",\"legendgroup\":\"land\",\"marker\":{\"color\":\"#EF553B\",\"pattern\":{\"shape\":\"\"}},\"name\":\"land\",\"offsetgroup\":\"land\",\"orientation\":\"v\",\"showlegend\":true,\"textposition\":\"auto\",\"x\":[1,2,3,4,5],\"xaxis\":\"x\",\"y\":[3,10,8,21,20],\"yaxis\":\"y\",\"type\":\"bar\"}],                        {\"template\":{\"data\":{\"bar\":[{\"error_x\":{\"color\":\"#2a3f5f\"},\"error_y\":{\"color\":\"#2a3f5f\"},\"marker\":{\"line\":{\"color\":\"#E5ECF6\",\"width\":0.5},\"pattern\":{\"fillmode\":\"overlay\",\"size\":10,\"solidity\":0.2}},\"type\":\"bar\"}],\"barpolar\":[{\"marker\":{\"line\":{\"color\":\"#E5ECF6\",\"width\":0.5},\"pattern\":{\"fillmode\":\"overlay\",\"size\":10,\"solidity\":0.2}},\"type\":\"barpolar\"}],\"carpet\":[{\"aaxis\":{\"endlinecolor\":\"#2a3f5f\",\"gridcolor\":\"white\",\"linecolor\":\"white\",\"minorgridcolor\":\"white\",\"startlinecolor\":\"#2a3f5f\"},\"baxis\":{\"endlinecolor\":\"#2a3f5f\",\"gridcolor\":\"white\",\"linecolor\":\"white\",\"minorgridcolor\":\"white\",\"startlinecolor\":\"#2a3f5f\"},\"type\":\"carpet\"}],\"choropleth\":[{\"colorbar\":{\"outlinewidth\":0,\"ticks\":\"\"},\"type\":\"choropleth\"}],\"contour\":[{\"colorbar\":{\"outlinewidth\":0,\"ticks\":\"\"},\"colorscale\":[[0.0,\"#0d0887\"],[0.1111111111111111,\"#46039f\"],[0.2222222222222222,\"#7201a8\"],[0.3333333333333333,\"#9c179e\"],[0.4444444444444444,\"#bd3786\"],[0.5555555555555556,\"#d8576b\"],[0.6666666666666666,\"#ed7953\"],[0.7777777777777778,\"#fb9f3a\"],[0.8888888888888888,\"#fdca26\"],[1.0,\"#f0f921\"]],\"type\":\"contour\"}],\"contourcarpet\":[{\"colorbar\":{\"outlinewidth\":0,\"ticks\":\"\"},\"type\":\"contourcarpet\"}],\"heatmap\":[{\"colorbar\":{\"outlinewidth\":0,\"ticks\":\"\"},\"colorscale\":[[0.0,\"#0d0887\"],[0.1111111111111111,\"#46039f\"],[0.2222222222222222,\"#7201a8\"],[0.3333333333333333,\"#9c179e\"],[0.4444444444444444,\"#bd3786\"],[0.5555555555555556,\"#d8576b\"],[0.6666666666666666,\"#ed7953\"],[0.7777777777777778,\"#fb9f3a\"],[0.8888888888888888,\"#fdca26\"],[1.0,\"#f0f921\"]],\"type\":\"heatmap\"}],\"heatmapgl\":[{\"colorbar\":{\"outlinewidth\":0,\"ticks\":\"\"},\"colorscale\":[[0.0,\"#0d0887\"],[0.1111111111111111,\"#46039f\"],[0.2222222222222222,\"#7201a8\"],[0.3333333333333333,\"#9c179e\"],[0.4444444444444444,\"#bd3786\"],[0.5555555555555556,\"#d8576b\"],[0.6666666666666666,\"#ed7953\"],[0.7777777777777778,\"#fb9f3a\"],[0.8888888888888888,\"#fdca26\"],[1.0,\"#f0f921\"]],\"type\":\"heatmapgl\"}],\"histogram\":[{\"marker\":{\"pattern\":{\"fillmode\":\"overlay\",\"size\":10,\"solidity\":0.2}},\"type\":\"histogram\"}],\"histogram2d\":[{\"colorbar\":{\"outlinewidth\":0,\"ticks\":\"\"},\"colorscale\":[[0.0,\"#0d0887\"],[0.1111111111111111,\"#46039f\"],[0.2222222222222222,\"#7201a8\"],[0.3333333333333333,\"#9c179e\"],[0.4444444444444444,\"#bd3786\"],[0.5555555555555556,\"#d8576b\"],[0.6666666666666666,\"#ed7953\"],[0.7777777777777778,\"#fb9f3a\"],[0.8888888888888888,\"#fdca26\"],[1.0,\"#f0f921\"]],\"type\":\"histogram2d\"}],\"histogram2dcontour\":[{\"colorbar\":{\"outlinewidth\":0,\"ticks\":\"\"},\"colorscale\":[[0.0,\"#0d0887\"],[0.1111111111111111,\"#46039f\"],[0.2222222222222222,\"#7201a8\"],[0.3333333333333333,\"#9c179e\"],[0.4444444444444444,\"#bd3786\"],[0.5555555555555556,\"#d8576b\"],[0.6666666666666666,\"#ed7953\"],[0.7777777777777778,\"#fb9f3a\"],[0.8888888888888888,\"#fdca26\"],[1.0,\"#f0f921\"]],\"type\":\"histogram2dcontour\"}],\"mesh3d\":[{\"colorbar\":{\"outlinewidth\":0,\"ticks\":\"\"},\"type\":\"mesh3d\"}],\"parcoords\":[{\"line\":{\"colorbar\":{\"outlinewidth\":0,\"ticks\":\"\"}},\"type\":\"parcoords\"}],\"pie\":[{\"automargin\":true,\"type\":\"pie\"}],\"scatter\":[{\"marker\":{\"colorbar\":{\"outlinewidth\":0,\"ticks\":\"\"}},\"type\":\"scatter\"}],\"scatter3d\":[{\"line\":{\"colorbar\":{\"outlinewidth\":0,\"ticks\":\"\"}},\"marker\":{\"colorbar\":{\"outlinewidth\":0,\"ticks\":\"\"}},\"type\":\"scatter3d\"}],\"scattercarpet\":[{\"marker\":{\"colorbar\":{\"outlinewidth\":0,\"ticks\":\"\"}},\"type\":\"scattercarpet\"}],\"scattergeo\":[{\"marker\":{\"colorbar\":{\"outlinewidth\":0,\"ticks\":\"\"}},\"type\":\"scattergeo\"}],\"scattergl\":[{\"marker\":{\"colorbar\":{\"outlinewidth\":0,\"ticks\":\"\"}},\"type\":\"scattergl\"}],\"scattermapbox\":[{\"marker\":{\"colorbar\":{\"outlinewidth\":0,\"ticks\":\"\"}},\"type\":\"scattermapbox\"}],\"scatterpolar\":[{\"marker\":{\"colorbar\":{\"outlinewidth\":0,\"ticks\":\"\"}},\"type\":\"scatterpolar\"}],\"scatterpolargl\":[{\"marker\":{\"colorbar\":{\"outlinewidth\":0,\"ticks\":\"\"}},\"type\":\"scatterpolargl\"}],\"scatterternary\":[{\"marker\":{\"colorbar\":{\"outlinewidth\":0,\"ticks\":\"\"}},\"type\":\"scatterternary\"}],\"surface\":[{\"colorbar\":{\"outlinewidth\":0,\"ticks\":\"\"},\"colorscale\":[[0.0,\"#0d0887\"],[0.1111111111111111,\"#46039f\"],[0.2222222222222222,\"#7201a8\"],[0.3333333333333333,\"#9c179e\"],[0.4444444444444444,\"#bd3786\"],[0.5555555555555556,\"#d8576b\"],[0.6666666666666666,\"#ed7953\"],[0.7777777777777778,\"#fb9f3a\"],[0.8888888888888888,\"#fdca26\"],[1.0,\"#f0f921\"]],\"type\":\"surface\"}],\"table\":[{\"cells\":{\"fill\":{\"color\":\"#EBF0F8\"},\"line\":{\"color\":\"white\"}},\"header\":{\"fill\":{\"color\":\"#C8D4E3\"},\"line\":{\"color\":\"white\"}},\"type\":\"table\"}]},\"layout\":{\"annotationdefaults\":{\"arrowcolor\":\"#2a3f5f\",\"arrowhead\":0,\"arrowwidth\":1},\"autotypenumbers\":\"strict\",\"coloraxis\":{\"colorbar\":{\"outlinewidth\":0,\"ticks\":\"\"}},\"colorscale\":{\"diverging\":[[0,\"#8e0152\"],[0.1,\"#c51b7d\"],[0.2,\"#de77ae\"],[0.3,\"#f1b6da\"],[0.4,\"#fde0ef\"],[0.5,\"#f7f7f7\"],[0.6,\"#e6f5d0\"],[0.7,\"#b8e186\"],[0.8,\"#7fbc41\"],[0.9,\"#4d9221\"],[1,\"#276419\"]],\"sequential\":[[0.0,\"#0d0887\"],[0.1111111111111111,\"#46039f\"],[0.2222222222222222,\"#7201a8\"],[0.3333333333333333,\"#9c179e\"],[0.4444444444444444,\"#bd3786\"],[0.5555555555555556,\"#d8576b\"],[0.6666666666666666,\"#ed7953\"],[0.7777777777777778,\"#fb9f3a\"],[0.8888888888888888,\"#fdca26\"],[1.0,\"#f0f921\"]],\"sequentialminus\":[[0.0,\"#0d0887\"],[0.1111111111111111,\"#46039f\"],[0.2222222222222222,\"#7201a8\"],[0.3333333333333333,\"#9c179e\"],[0.4444444444444444,\"#bd3786\"],[0.5555555555555556,\"#d8576b\"],[0.6666666666666666,\"#ed7953\"],[0.7777777777777778,\"#fb9f3a\"],[0.8888888888888888,\"#fdca26\"],[1.0,\"#f0f921\"]]},\"colorway\":[\"#636efa\",\"#EF553B\",\"#00cc96\",\"#ab63fa\",\"#FFA15A\",\"#19d3f3\",\"#FF6692\",\"#B6E880\",\"#FF97FF\",\"#FECB52\"],\"font\":{\"color\":\"#2a3f5f\"},\"geo\":{\"bgcolor\":\"white\",\"lakecolor\":\"white\",\"landcolor\":\"#E5ECF6\",\"showlakes\":true,\"showland\":true,\"subunitcolor\":\"white\"},\"hoverlabel\":{\"align\":\"left\"},\"hovermode\":\"closest\",\"mapbox\":{\"style\":\"light\"},\"paper_bgcolor\":\"white\",\"plot_bgcolor\":\"#E5ECF6\",\"polar\":{\"angularaxis\":{\"gridcolor\":\"white\",\"linecolor\":\"white\",\"ticks\":\"\"},\"bgcolor\":\"#E5ECF6\",\"radialaxis\":{\"gridcolor\":\"white\",\"linecolor\":\"white\",\"ticks\":\"\"}},\"scene\":{\"xaxis\":{\"backgroundcolor\":\"#E5ECF6\",\"gridcolor\":\"white\",\"gridwidth\":2,\"linecolor\":\"white\",\"showbackground\":true,\"ticks\":\"\",\"zerolinecolor\":\"white\"},\"yaxis\":{\"backgroundcolor\":\"#E5ECF6\",\"gridcolor\":\"white\",\"gridwidth\":2,\"linecolor\":\"white\",\"showbackground\":true,\"ticks\":\"\",\"zerolinecolor\":\"white\"},\"zaxis\":{\"backgroundcolor\":\"#E5ECF6\",\"gridcolor\":\"white\",\"gridwidth\":2,\"linecolor\":\"white\",\"showbackground\":true,\"ticks\":\"\",\"zerolinecolor\":\"white\"}},\"shapedefaults\":{\"line\":{\"color\":\"#2a3f5f\"}},\"ternary\":{\"aaxis\":{\"gridcolor\":\"white\",\"linecolor\":\"white\",\"ticks\":\"\"},\"baxis\":{\"gridcolor\":\"white\",\"linecolor\":\"white\",\"ticks\":\"\"},\"bgcolor\":\"#E5ECF6\",\"caxis\":{\"gridcolor\":\"white\",\"linecolor\":\"white\",\"ticks\":\"\"}},\"title\":{\"x\":0.05},\"xaxis\":{\"automargin\":true,\"gridcolor\":\"white\",\"linecolor\":\"white\",\"ticks\":\"\",\"title\":{\"standoff\":15},\"zerolinecolor\":\"white\",\"zerolinewidth\":2},\"yaxis\":{\"automargin\":true,\"gridcolor\":\"white\",\"linecolor\":\"white\",\"ticks\":\"\",\"title\":{\"standoff\":15},\"zerolinecolor\":\"white\",\"zerolinewidth\":2}}},\"xaxis\":{\"anchor\":\"y\",\"domain\":[0.0,1.0],\"title\":{\"text\":\"\\u041d\\u043e\\u043c\\u0435\\u0440 \\u043d\\u0435\\u0434\\u0435\\u043b\\u0438\"},\"categoryorder\":\"array\",\"categoryarray\":[1,2,3,4,5]},\"yaxis\":{\"anchor\":\"x\",\"domain\":[0.0,1.0],\"title\":{\"text\":\"\\u041a\\u043e\\u043b\\u0438\\u0447\\u0435\\u0441\\u0442\\u0432\\u043e \\u043f\\u043e\\u0441\\u0442\\u0430\\u0432\\u043e\\u043a\"}},\"legend\":{\"title\":{\"text\":\"\\u041c\\u0435\\u0442\\u043e\\u0434 \\u0442\\u0440\\u0430\\u043d\\u0441\\u043f\\u043e\\u0440\\u0442\\u0438\\u0440\\u043e\\u0432\\u043a\\u0438\"},\"tracegroupgap\":0},\"title\":{\"text\":\"\\u041a\\u043e\\u043b\\u0438\\u0447\\u0435\\u0441\\u0442\\u0432\\u043e \\u043f\\u043e\\u0441\\u0442\\u0430\\u0432\\u043e\\u043a 3P \\u043f\\u043e \\u043c\\u0435\\u0442\\u043e\\u0434\\u0430\\u043c \\u0442\\u0440\\u0430\\u043d\\u0441\\u043f\\u043e\\u0440\\u0442\\u0438\\u0440\\u043e\\u0432\\u043a\\u0438 \\u0432 2024 \\u0433\\u043e\\u0434\\u0443\"},\"barmode\":\"group\"},                        {\"responsive\": true}                    ).then(function(){\n",
       "                            \n",
       "var gd = document.getElementById('568db823-31d6-4f65-b3be-be5c2881b75b');\n",
       "var x = new MutationObserver(function (mutations, observer) {{\n",
       "        var display = window.getComputedStyle(gd).display;\n",
       "        if (!display || display === 'none') {{\n",
       "            console.log([gd, 'removed!']);\n",
       "            Plotly.purge(gd);\n",
       "            observer.disconnect();\n",
       "        }}\n",
       "}});\n",
       "\n",
       "// Listen for the removal of the full notebook cells\n",
       "var notebookContainer = gd.closest('#notebook-container');\n",
       "if (notebookContainer) {{\n",
       "    x.observe(notebookContainer, {childList: true});\n",
       "}}\n",
       "\n",
       "// Listen for the clearing of the current output cell\n",
       "var outputEl = gd.closest('.output');\n",
       "if (outputEl) {{\n",
       "    x.observe(outputEl, {childList: true});\n",
       "}}\n",
       "\n",
       "                        })                };                });            </script>        </div>"
      ]
     },
     "metadata": {},
     "output_type": "display_data"
    }
   ],
   "source": [
    "fig_2023 = px.bar(transport_counts_2023, \n",
    "                   x='Week Number', \n",
    "                   y='Counts', \n",
    "                   color='Transportation method', \n",
    "                   barmode='group',\n",
    "                   title='Количество поставок 3P по методам транспортировки в 2023 году',\n",
    "                   labels={'Week Number': 'Номер недели', 'Counts': 'Количество поставок'},\n",
    "                   category_orders={'Week Number': sorted(transport_counts_2023['Week Number'].unique())},\n",
    "                   hover_data={'Week Number': False, 'Transportation method': True, 'Counts': True}\n",
    "                  )\n",
    "fig_2023.update_layout(xaxis=dict(),\n",
    "                        legend_title='Метод транспортировки')\n",
    "\n",
    "fig_2024 = px.bar(transport_counts_2024, \n",
    "                   x='Week Number', \n",
    "                   y='Counts', \n",
    "                   color='Transportation method', \n",
    "                   barmode='group',\n",
    "                   title='Количество поставок 3P по методам транспортировки в 2024 году',\n",
    "                   labels={'Week Number': 'Номер недели', 'Counts': 'Количество поставок'},\n",
    "                   category_orders={'Week Number': sorted(transport_counts_2024['Week Number'].unique())},\n",
    "                   hover_data={'Week Number': False, 'Transportation method': True, 'Counts': True}\n",
    "                  )\n",
    "fig_2024.update_layout(xaxis=dict(),\n",
    "                        legend_title='Метод транспортировки')\n",
    "\n",
    "fig_2023.show()\n",
    "fig_2024.show()"
   ]
  },
  {
   "cell_type": "markdown",
   "id": "2d1aa708",
   "metadata": {},
   "source": [
    "- Здесь можно навести курсор и отдельным комментарием будет выводиться подробная информация"
   ]
  },
  {
   "cell_type": "markdown",
   "id": "dce69055",
   "metadata": {},
   "source": [
    "## Анализ статусов 1Р за период с 24.1 по 31.1\n",
    "- Выгрузил данные за этот период из Жиры, т.к. траки за этот период относительно недавно прибыли на склад и по кол-ву строк этот период наиболее подходящий (997 строк смог выгрузить из Жиры)"
   ]
  },
  {
   "cell_type": "code",
   "execution_count": 100,
   "id": "dd437196",
   "metadata": {},
   "outputs": [],
   "source": [
    "data2 = pd.DataFrame({\n",
    "    'WMS order number 2': [\n",
    "        '41339', '41343', '41754', '41884', '41778', '41661', '41662', '41629', '41670', '41613', '41606', '41622', '41779', '41784', '41755', '41785', '41733', '41605', '41627', '41682', '41845', '41716', '41713', '41660', '41788', '41678', '41666', '41776', '41685', '41676', '41659', '41792', '41734', '41798', '41712', '41801', '41881', '41728', '41911', '41878', '41906', '41886', '41908', '41839', '41834', '41850', '41866', '41608', '41854', '41861', '41741', '41780', '41935', '41900', '41375', '41395', '41915', '41639', '41705', '41889', '41926', '41714', '41349', '41353', '41332', '41740', '41879', '41873', '41399', '41838', '41341', '41351', '41337', '41927', '41657', '41658', '41397', '38589', '38835', '41372', '41732', '41653', '41672', '41365', '41830', '41336', '41379', '41366', '41632', '41934', '41920', '41388', '41916', '41612', '41634', '41753', '41348', '41383', '41358', '41913', '41381', '41342', '41321', '41392', '41371', '41286', '41338', '41396', '41387', '41725', '41742', '41750', '41360', '41931', '41856', '41378', '41384', '41385', '41374', '41369', '41377', '41910', '41877', '41852', '41344', '41669', '41356', '41362', '41793', '41883', '41334', '41331', '41394', '41386', '41333', '41860', '41800', '41709', '41721', '41745', '41644', '41804', '41648', '41400', '41630', '41646', '41643', '41359', '41723', '41367', '41914', '41651', '41729', '41932', '41789', '41637', '41848', '41832', '41735', '41831', '41720', '41677', '41364', '42130', '42097', '42147', '41352', '41748', '41710', '41817', '41783', '42124', '41802', '42164', '41846', '41715', '41876', '41681', '41680', '42190', '42178', '41803', '42258', '42104', '42117', '42315', '41726', '42060', '42059', '42275', '42151', '42264', '42123', '42160', '42177', '42132', '42180', '42080', '41711', '41917', '41615', '41777', '42110', '42128', '41687', '41617', '42290', '42159', '41909', '42135', '42314', '41907', '42063', '41810', '41820', '41724', '41828', '41829', '41794', '41869', '41835', '41921', '41718', '41616', '41628', '41398', '41663', '41739', '41882', '41859', '41737', '41620', '41654', '41638', '41376', '41668', '41380', '41923', '41893', '41766', '41645', '41905', '41647', '41894', '41867', '41727', '41833', '41746', '41782', '41864', '41880', '41924', '41373', '41849', '41858', '41624', '41621', '42308', '41679', '41863', '41355', '41925', '41937', '41919', '41391', '41361', '41797', '41345', '41665', '41335', '41363', '41744', '41749', '41730', '41674', '41393', '41781', '41717', '41683', '41896', '41390', '41857', '41899', '41912', '41671', '41840', '41851', '41841', '41635', '41895', '42188', '41844', '41611', '41870', '41350', '41649', '42265', '41865', '41887', '41618', '41626', '41650', '41875', '41642', '41604', '41936', '41796', '41837', '41736', '41652', '41625', '41340', '41664', '41843', '41357', '41786', '41904', '41675', '41631', '41903', '41747', '41633', '41656', '41787', '41799', '41354', '41933', '41370', '42156', '38908', '42306', '41821', '41901', '41890', '41928', '41855', '41885', '41888', '41892', '42298', '42064', '41382', '41847', '41738', '41673', '41346', '41607', '41902', '41874', '38916', '42109', '42065', '42136', '42268', '41811', '42093', '41818', '42090', '42228', '42223', '42111', '42225', '42040', '41655', '41603', '41722', '41610', '41743', '41930', '41706', '42313', '42274', '42108', '42106', '42113', '42076', '42143', '42176', '41790', '41814', '41609', '41922', '41602', '42057', '41707', '42237', '41614', '41968', '41823', '42103', '42289', '42303', '42066', '41636', '42145', '42084', '41868', '41667', '42017', '42255', '42215', '41601', '42283', '42021', '41640', '41929', '41541', '42206', '41641', '42295', '42019', '41853', '41688', '41822', '42042', '42238', '42028', '41969', '42036', '42200', '42182', '41997', '42224', '42007', '41967', '42055', '42078', '42257', '41619', '42184', '42069', '42279', '42267', '42146', '42058', '42254', '42175', '42307', '41871', '41824', '42157', '41816', '42068', '41965', '41974', '42077', '42067', '41807', '42126', '42214', '38852', '41389', '42010', '42035', '42005', '38884', '38927', '38872', '38804', '38778', '38918', '38789', '41806', '38777', '38802', '38813', '42105', '42142', '38825', '38892', '38880', '38833', '38928', '38903', '38877', '38857', '41944', '42083', '41987', '42161', '42201', '42008', '42045', '42000', '42001', '42013', '42043', '42012', '42079', '41961', '42075', '42300', '42158', '42140', '42251', '41998', '42086', '41719', '42168', '41977', '42150', '41769', '42082', '42165', '42061', '42133', '42089', '42252', '42266', '42098', '42291', '41978', '42312', '42260', '42162', '42181', '42071', '42011', '42211', '41984', '42192', '42286', '42179', '42169', '42081', '42210', '42232', '41795', '41891', '42152', '42302', '42217', '42311', '41988', '42231', '41994', '41959', '42309', '41976', '42015', '41995', '41975', '42003', '42246', '41972', '42027', '42101', '42100', '42292', '42208', '42074', '41964', '42029', '42304', '42037', '42227', '42174', '42284', '41809', '42137', '42062', '42031', '42056', '42220', '42259', '42294', '42271', '41973', '42310', '42189', '42301', '41958', '42122', '41979', '42006', '41980', '42099', '42248', '42171', '42153', '42191', '41815', '42044', '42032', '42185', '42138', '42134', '42118', '42038', '42119', '41686', '42018', '41971', '42154', '41898', '42030', '42293', '42041', '42149', '41983', '41819', '42115', '41813', '41960', '42004', '42261', '42088', '42120', '42016', '42166', '41897', '42183', '41992', '42272', '42022', '42095', '42256', '42282', '38801', '40394', '38912', '38815', '40545', '39109', '38911', '38786', '38890', '38870', '38866', '42167', '38845', '38807', '38841', '38762', '42087', '42155', '38781', '38886', '38899', '38817', '38769', '38896', '38772', '38876', '38792', '42148', '38853', '38771', '38909', '38808', '38805', '38842', '38779', '38810', '38799', '38846', '38920', '38901', '38795', '38827', '38838', '38861', '38902', '38900', '38831', '38881', '38818', '38796', '38925', '38851', '38847', '38794', '38775', '38783', '38834', '38832', '38894', '38767', '42250', '38844', '38839', '38850', '41872', '38788', '38790', '38933', '38803', '42094', '42186', '42096', '38811', '38917', '42262', '42163', '41945', '41623', '41862', '42247', '42172', '42277', '42107', '42121', '41986', '42287', '42270', '42187', '42131', '42273', '42173', '42285', '41812', '42297', '42280', '42073', '42127', '42112', '42278', '42269', '42072', '42092', '42102', '42091', '42141', '42170', '42281', '41731', '41989', '42222', '41836', '42116', '42129', '41943', '42024', '42139', '42114', '42276', '42070', '42299', '41684', '42033', '41966', '41981', '42014', '42085', '42039', '41808', '38774', '38882', '38824', '38725', '38595', '38758', '38701', '38703', '42202', '38708', '38731', '41842', '38579', '38711', '42240', '42125', '42020', '41991', '42144', '38709', '38715', '42002', '41982', '38879', '38705', '42226', '38630', '42230', '41962', '42205', '38752', '38706', '38722', '38742', '38747', '42253', '41993', '42209', '41985', '38727', '42305', '42034', '38654', '38922', '38759', '38569', '38793', '38741', '38730', '38714', '38694', '38608', '38704', '38721', '38733', '42207', '38760', '38645', '42026', '38707', '38745', '38719', '38574', '38874', '42263', '42009', '42218', '41708', '38565', '38739', '41990', '42203', '42213', '41999', '38613', '38729', '38932', '41918', '38720', '38910', '38780', '38717', '38840', '38735', '38828', '38898', '38738', '38723', '38753', '41957', '42219', '38929', '38885', '38770', '38919', '38931', '38664', '42296', '41963', '38871', '42221', '38875', '38893', '42216', '41791', '42229', '38791', '38924', '38926', '38812', '38856', '38806', '38669', '38712', '38728', '38637', '41368', '42204', '38724', '38867', '38785', '38934', '38782', '42025', '38865', '38746', '38638', '38641', '38652', '38615', '38702', '42288', '42212', '38757', '38930', '39068', '38734', '38571', '38666', '38921', '38667', '38600', '38873', '38581', '38862', '38868', '38913', '38750', '39038', '38887', '38764', '38653', '38843', '38953', '42249', '38755', '38797', '38820', '38635', '38784', '38906', '38773', '39142', '38897', '38754', '38766', '38713', '38888', '38905', '38823', '38849', '38768', '38616', '39022', '38740', '38765', '38816', '38836', '38904', '38889', '38612', '38656', '38830', '38878', '38800', '38854', '38814', '38864', '38855', '38749', '38798', '38594', '38718', '38895', '38736', '38743', '38829', '38632', '38663', '38821', '38883', '38618', '38761', '38756', '38787', '38826', '38578', '38592', '38710', '38716', '38726', '38737', '38891', '38860', '38923', '38837', '38848', '38776', '38668', '41996', '38915', '38744', '38819', '40546', '39032', '38869', '38751', '42023', '38604', '39143', '42236', '38809', '38643', '39063', '42233', '38591', '38700', '38822', '38907', '38763', '38859', '38914', '38863', '41825', '41970', '42235', '38858', '42234', '38732', '38748'\n",
    "    ],\n",
    "    'Status': [\n",
    "        'Cargo arrived at BWH', 'Cargo arrived at BWH', 'Cargo arrived at BWH', 'Cargo arrived at BWH', 'On shelf', 'On shelf', 'On shelf', 'On shelf', 'On shelf', 'On shelf', 'On shelf', 'On shelf', 'On shelf', 'On shelf', 'On shelf', 'On shelf', 'On shelf', 'On shelf', 'On shelf', 'On shelf', 'Customs declaration', 'On shelf', 'On shelf', 'On shelf', 'On shelf', 'On shelf', 'On shelf', 'On shelf', 'On shelf', 'On shelf', 'On shelf', 'On shelf', 'On shelf', 'On shelf', 'On shelf', 'On shelf', 'On shelf', 'On shelf', 'On shelf', 'On shelf', 'On shelf', 'On shelf', 'On shelf', 'On shelf', 'On shelf', 'On shelf', 'On shelf', 'On shelf', 'On shelf', 'On shelf', 'On shelf', 'On shelf', 'On shelf', 'On shelf', 'On shelf', 'On shelf', 'On shelf', 'On shelf', 'On shelf', 'On shelf', 'On shelf', 'On shelf', 'On shelf', 'On shelf', 'On shelf', 'On shelf', 'On shelf', 'On shelf', 'On shelf', 'On shelf', 'On shelf', 'On shelf', 'On shelf', 'On shelf', 'On shelf', 'On shelf', 'On shelf', 'Cargo arrived at BWH', 'Cargo arrived at BWH', 'On shelf', 'On shelf', 'On shelf', 'On shelf', 'On shelf', 'On shelf', 'On shelf', 'On shelf', 'On shelf', 'On shelf', 'On shelf', 'On shelf', 'On shelf', 'On shelf', 'On shelf', 'On shelf', 'On shelf', 'On shelf', 'On shelf', 'On shelf', 'On shelf', 'On shelf', 'On shelf', 'On shelf', 'On shelf', 'On shelf', 'On shelf', 'On shelf', 'On shelf', 'On shelf', 'On shelf', 'On shelf', 'On shelf', 'On shelf', 'On shelf', 'On shelf', 'On shelf', 'On shelf', 'On shelf', 'On shelf', 'On shelf', 'On shelf', 'On shelf', 'On shelf', 'On shelf', 'On shelf', 'On shelf', 'On shelf', 'On shelf', 'On shelf', 'On shelf', 'On shelf', 'On shelf', 'On shelf', 'On shelf', 'On shelf', 'On shelf', 'On shelf', 'On shelf', 'On shelf', 'On shelf', 'On shelf', 'On shelf', 'On shelf', 'On shelf', 'On shelf', 'On shelf', 'On shelf', 'On shelf', 'On shelf', 'On shelf', 'On shelf', 'On shelf', 'On shelf', 'Customs declaration', 'On shelf', 'On shelf', 'On shelf', 'On shelf', 'On shelf', 'On shelf', 'On shelf', 'On shelf', 'On shelf', 'On shelf', 'On shelf', 'On shelf', 'On shelf', 'On shelf', 'On shelf', 'On shelf', 'On shelf', 'On shelf', 'On shelf', 'On shelf', 'On shelf', 'On shelf', 'On shelf', 'On shelf', 'On shelf', 'On shelf', 'On shelf', 'On shelf', 'On shelf', 'On shelf', 'On shelf', 'On shelf', 'On shelf', 'On shelf', 'On shelf', 'On shelf', 'On shelf', 'On shelf', 'On shelf', 'On shelf', 'On shelf', 'On shelf', 'On shelf', 'On shelf', 'On shelf', 'On shelf', 'On shelf', 'On shelf', 'On shelf', 'On shelf', 'On shelf', 'On shelf', 'On shelf', 'On shelf', 'On shelf', 'On shelf', 'On shelf', 'On shelf', 'Cargo arrived at BWH', 'Cargo arrived at BWH', 'Cargo arrived at BWH', 'On shelf', 'On shelf', 'On shelf', 'On shelf', 'On shelf', 'On shelf', 'On shelf', 'On shelf', 'On shelf', 'On shelf', 'On shelf', 'On shelf', 'On shelf', 'On shelf', 'On shelf', 'On shelf', 'On shelf', 'On shelf', 'On shelf', 'On shelf', 'On shelf', 'On shelf', 'On shelf', 'On shelf', 'On shelf', 'On shelf', 'On shelf', 'On shelf', 'On shelf', 'On shelf', 'On shelf', 'On shelf', 'On shelf', 'On shelf', 'On shelf', 'On shelf', 'On shelf', 'On shelf', 'On shelf', 'On shelf', 'On shelf', 'On shelf', 'Cargo arrived at BWH', 'On shelf', 'On shelf', 'On shelf', 'On shelf', 'On shelf', 'On shelf', 'On shelf', 'On shelf', 'On shelf', 'On shelf', 'On shelf', 'On shelf', 'On shelf', 'On shelf', 'On shelf', 'On shelf', 'On shelf', 'On shelf', 'On shelf', 'On shelf', 'On shelf', 'On shelf', 'On shelf', 'On shelf', 'On shelf', 'On shelf', 'On shelf', 'On shelf', 'On shelf', 'On shelf', 'On shelf', 'On shelf', 'Cargo arrived at BWH', 'On shelf', 'On shelf', 'On shelf', 'On shelf', 'On shelf', 'Cargo arrived at BWH', 'On shelf', 'On shelf', 'On shelf', 'On shelf', 'On shelf', 'On shelf', 'On shelf', 'On shelf', 'On shelf', 'On shelf', 'On shelf', 'On shelf', 'On shelf', 'On shelf', 'On shelf', 'On shelf', 'On shelf', 'On shelf', 'On shelf', 'On shelf', 'On shelf', 'On shelf', 'On shelf', 'On shelf', 'On shelf', 'On shelf', 'On shelf', 'On shelf', 'On shelf', 'On shelf', 'On shelf', 'On shelf', 'Cargo arrived at BWH', 'On shelf', 'On shelf', 'On shelf', 'On shelf', 'On shelf', 'On shelf', 'On shelf', 'On shelf', 'On shelf', 'On shelf', 'On shelf', 'On shelf', 'On shelf', 'On shelf', 'On shelf', 'On shelf', 'On shelf', 'On shelf', 'On shelf', 'Cargo arrived at BWH', 'On shelf', 'On shelf', 'On shelf', 'On shelf', 'On shelf', 'On shelf', 'On shelf', 'On shelf', 'On shelf', 'On shelf', 'On shelf', 'On shelf', 'On shelf', 'On shelf', 'On shelf', 'On shelf', 'On shelf', 'On shelf', 'On shelf', 'On shelf', 'On shelf', 'On shelf', 'On shelf', 'On shelf', 'On shelf', 'On shelf', 'On shelf', 'On shelf', 'On shelf', 'On shelf', 'On shelf', 'On shelf', 'On shelf', 'On shelf', 'On shelf', 'On shelf', 'On shelf', 'On shelf', 'On shelf', 'On shelf', 'On shelf', 'On shelf', 'On shelf', 'On shelf', 'On shelf', 'On shelf', 'On shelf', 'On shelf', 'Customs declaration', 'On shelf', 'On shelf', 'On shelf', 'On shelf', 'On shelf', 'On shelf', 'On shelf', 'On shelf', 'On shelf', 'On shelf', 'On shelf', 'On shelf', 'On shelf', 'On shelf', 'On shelf', 'On shelf', 'On shelf', 'On shelf', 'On shelf', 'On shelf', 'On shelf', 'On shelf', 'On shelf', 'On shelf', 'On shelf', 'On shelf', 'On shelf', 'On shelf', 'On shelf', 'On shelf', 'On shelf', 'On shelf', 'On shelf', 'On shelf', 'On shelf', 'On shelf', 'On shelf', 'On shelf', 'On shelf', 'On shelf', 'On shelf', 'On shelf', 'On shelf', 'On shelf', 'On shelf', 'On shelf', 'On shelf', 'On shelf', 'On shelf', 'On shelf', 'On shelf', 'Customs declaration', 'On shelf', 'On shelf', 'On shelf', 'On shelf', 'On shelf', 'On shelf', 'On shelf', 'On shelf', 'On shelf', 'On shelf', 'On shelf', 'On shelf', 'On shelf', 'On shelf', 'On shelf', 'On shelf', 'On shelf', 'On shelf', 'On shelf', 'On shelf', 'On shelf', 'On shelf', 'On shelf', 'On shelf', 'On shelf', 'On shelf', 'On shelf', 'On shelf', 'On shelf', 'On shelf', 'On shelf', 'On shelf', 'On shelf', 'On shelf', 'On shelf', 'On shelf', 'On shelf', 'On shelf', 'On shelf', 'On shelf', 'On shelf', 'On shelf', 'On shelf', 'On shelf', 'On shelf', 'On shelf', 'On shelf', 'On shelf', 'On shelf', 'On shelf', 'On shelf', 'On shelf', 'On shelf', 'On shelf', 'On shelf', 'On shelf', 'On shelf', 'On shelf', 'On shelf', 'On shelf', 'On shelf', 'On shelf', 'On shelf', 'On shelf', 'On shelf', 'On shelf', 'On shelf', 'On shelf', 'On shelf', 'On shelf', 'On shelf', 'On shelf', 'On shelf', 'On shelf', 'On shelf', 'On shelf', 'On shelf', 'On shelf', 'On shelf', 'On shelf', 'On shelf', 'On shelf', 'On shelf', 'On shelf', 'On shelf', 'On shelf', 'On shelf', 'On shelf', 'On shelf', 'On shelf', 'On shelf', 'On shelf', 'On shelf', 'On shelf', 'On shelf', 'On shelf', 'On shelf', 'On shelf', 'On shelf', 'On shelf', 'On shelf', 'On shelf', 'On shelf', 'On shelf', 'On shelf', 'On shelf', 'On shelf', 'On shelf', 'On shelf', 'On shelf', 'On shelf', 'On shelf', 'On shelf', 'On shelf', 'On shelf', 'On shelf', 'On shelf', 'On shelf', 'On shelf', 'On shelf', 'On shelf', 'On shelf', 'On shelf', 'On shelf', 'On shelf', 'On shelf', 'On shelf', 'On shelf', 'On shelf', 'On shelf', 'On shelf', 'On shelf', 'On shelf', 'On shelf', 'On shelf', 'On shelf', 'On shelf', 'On shelf', 'On shelf', 'On shelf', 'On shelf', 'On shelf', 'On shelf', 'On shelf', 'On shelf', 'On shelf', 'On shelf', 'On shelf', 'On shelf', 'On shelf', 'On shelf', 'On shelf', 'On shelf', 'On shelf', 'On shelf', 'On shelf', 'On shelf', 'On shelf', 'On shelf', 'On shelf', 'On shelf', 'On shelf', 'On shelf', 'On shelf', 'On shelf', 'On shelf', 'On shelf', 'On shelf', 'On shelf', 'On shelf', 'On shelf', 'On shelf', 'On shelf', 'On shelf', 'On shelf', 'On shelf', 'On shelf', 'On shelf', 'On shelf', 'On shelf', 'On shelf', 'On shelf', 'On shelf', 'On shelf', 'On shelf', 'On shelf', 'On shelf', 'On shelf', 'On shelf', 'On shelf', 'On shelf', 'On shelf', 'On shelf', 'On shelf', 'On shelf', 'On shelf', 'On shelf', 'On shelf', 'On shelf', 'On shelf', 'On shelf', 'On shelf', 'On shelf', 'On shelf', 'On shelf', 'On shelf', 'On shelf', 'On shelf', 'On shelf', 'On shelf', 'On shelf', 'On shelf', 'On shelf', 'On shelf', 'On shelf', 'On shelf', 'On shelf', 'On shelf', 'On shelf', 'On shelf', 'On shelf', 'On shelf', 'On shelf', 'On shelf', 'On shelf', 'On shelf', 'On shelf', 'On shelf', 'On shelf', 'On shelf', 'On shelf', 'On shelf', 'On shelf', 'On shelf', 'On shelf', 'On shelf', 'On shelf', 'On shelf', 'On shelf', 'On shelf', 'On shelf', 'On shelf', 'On shelf', 'On shelf', 'On shelf', 'On shelf', 'On shelf', 'On shelf', 'On shelf', 'On shelf', 'On shelf', 'On shelf', 'On shelf', 'On shelf', 'On shelf', 'On shelf', 'On shelf', 'On shelf', 'On shelf', 'On shelf', 'On shelf', 'On shelf', 'On shelf', 'On shelf', 'On shelf', 'On shelf', 'On shelf', 'On shelf', 'On shelf', 'On shelf', 'On shelf', 'On shelf', 'On shelf', 'On shelf', 'On shelf', 'On shelf', 'On shelf', 'On shelf', 'On shelf', 'On shelf', 'On shelf', 'On shelf', 'On shelf', 'On shelf', 'On shelf', 'On shelf', 'On shelf', 'On shelf', 'On shelf', 'On shelf', 'On shelf', 'On shelf', 'On shelf', 'On shelf', 'On shelf', 'On shelf', 'On shelf', 'On shelf', 'On shelf', 'On shelf', 'On shelf', 'On shelf', 'On shelf', 'On shelf', 'On shelf', 'On shelf', 'On shelf', 'On shelf', 'On shelf', 'On shelf', 'On shelf', 'On shelf', 'On shelf', 'On shelf', 'On shelf', 'On shelf', 'On shelf', 'On shelf', 'On shelf', 'On shelf', 'On shelf', 'On shelf', 'On shelf', 'On shelf', 'On shelf', 'On shelf', 'On shelf', 'On shelf', 'On shelf', 'On shelf', 'On shelf', 'On shelf', 'On shelf', 'On shelf', 'On shelf', 'On shelf', 'On shelf', 'On shelf', 'On shelf', 'On shelf', 'On shelf', 'On shelf', 'On shelf', 'On shelf', 'On shelf', 'On shelf', 'On shelf', 'On shelf', 'On shelf', 'On shelf', 'On shelf', 'On shelf', 'On shelf', 'On shelf', 'On shelf', 'On shelf', 'On shelf', 'On shelf', 'On shelf', 'On shelf', 'On shelf', 'On shelf', 'On shelf', 'On shelf', 'On shelf', 'On shelf', 'On shelf', 'On shelf', 'On shelf', 'On shelf', 'On shelf', 'On shelf', 'On shelf', 'On shelf', 'On shelf', 'On shelf', 'On shelf', 'On shelf', 'On shelf', 'On shelf', 'On shelf', 'On shelf', 'On shelf', 'On shelf', 'On shelf', 'On shelf', 'On shelf', 'On shelf', 'On shelf', 'On shelf', 'On shelf', 'On shelf', 'On shelf', 'On shelf', 'On shelf', 'On shelf', 'On shelf', 'On shelf', 'On shelf', 'On shelf', 'On shelf', 'On shelf', 'On shelf', 'On shelf', 'On shelf', 'On shelf', 'On shelf', 'On shelf', 'On shelf', 'On shelf', 'On shelf', 'On shelf', 'On shelf', 'On shelf', 'On shelf', 'On shelf', 'On shelf', 'On shelf', 'On shelf', 'On shelf', 'On shelf', 'On shelf', 'On shelf', 'On shelf', 'On shelf', 'On shelf', 'On shelf', 'On shelf', 'On shelf', 'On shelf', 'On shelf', 'On shelf', 'On shelf', 'On shelf', 'On shelf', 'On shelf', 'On shelf', 'On shelf', 'On shelf', 'On shelf', 'On shelf', 'On shelf', 'On shelf', 'On shelf', 'On shelf', 'On shelf', 'On shelf', 'On shelf', 'On shelf', 'On shelf', 'On shelf', 'On shelf', 'On shelf', 'On shelf', 'On shelf', 'On shelf', 'On shelf', 'On shelf', 'On shelf', 'On shelf', 'On shelf', 'On shelf', 'On shelf', 'On shelf', 'On shelf', 'On shelf', 'On shelf', 'On shelf', 'On shelf', 'On shelf', 'On shelf', 'On shelf', 'On shelf', 'On shelf', 'On shelf', 'On shelf', 'On shelf', 'On shelf', 'On shelf', 'On shelf', 'On shelf', 'On shelf', 'On shelf', 'On shelf', 'On shelf', 'On shelf', 'On shelf', 'On shelf', 'On shelf', 'On shelf', 'On shelf', 'On shelf', 'On shelf', 'On shelf', 'On shelf', 'On shelf', 'On shelf', 'On shelf', 'On shelf', 'On shelf', 'On shelf', 'On shelf', 'On shelf', 'On shelf', 'On shelf', 'On shelf', 'On shelf', 'On shelf', 'On shelf', 'On shelf', 'On shelf', 'On shelf', 'On shelf', 'On shelf', 'On shelf', 'On shelf', 'On shelf', 'On shelf', 'On shelf', 'On shelf', 'On shelf', 'On shelf', 'On shelf', 'On shelf', 'On shelf', 'On shelf', 'On shelf', 'On shelf', 'On shelf', 'On shelf', 'On shelf', 'On shelf', 'On shelf', 'On shelf', 'On shelf', 'On shelf', 'On shelf', 'On shelf', 'On shelf', 'On shelf', 'On shelf', 'On shelf', 'On shelf', 'On shelf', 'On shelf'\n",
    "    ],\n",
    "    'Arrival date': [\n",
    "      45315, 45315, 45316, 45316, 45316, 45316, 45316, 45316, 45316, 45316, 45316, 45316, 45316, 45316, 45316, 45316, 45316, 45316, 45316, 45316, 45316, 45316, 45316, 45316, 45316, 45316, 45316, 45316, 45316, 45316, 45316, 45316, 45316, 45316, 45316, 45316, 45316, 45316, 45316, 45316, 45316, 45316, 45316, 45316, 45316, 45316, 45316, 45316, 45316, 45316, 45316, 45316, 45316, 45316, 45315, 45315, 45316, 45316, 45316, 45316, 45316, 45316, 45315, 45315, 45315, 45316, 45316, 45316, 45315, 45316, 45315, 45315, 45315, 45316, 45316, 45316, 45315, 45322, 45322, 45315, 45316, 45316, 45316, 45315, 45316, 45315, 45315, 45315, 45316, 45316, 45316, 45315, 45316, 45316, 45316, 45316, 45315, 45315, 45315, 45316, 45315, 45315, 45315, 45315, 45315, 45315, 45315, 45315, 45315, 45316, 45316, 45316, 45315, 45316, 45316, 45315, 45315, 45315, 45315, 45315, 45315, 45316, 45316, 45316, 45315, 45316, 45315, 45315, 45316, 45316, 45315, 45315, 45315, 45315, 45315, 45316, 45316, 45316, 45316, 45316, 45316, 45316, 45316, 45315, 45316, 45316, 45316, 45315, 45316, 45315, 45316, 45316, 45316, 45316, 45316, 45316, 45316, 45316, 45316, 45316, 45316, 45316, 45315, 45320, 45320, 45320, 45315, 45316, 45316, 45320, 45316, 45320, 45316, 45320, 45316, 45316, 45316, 45316, 45316, 45320, 45320, 45316, 45320, 45320, 45320, 45320, 45316, 45320, 45320, 45320, 45320, 45320, 45320, 45320, 45320, 45320, 45320, 45320, 45316, 45316, 45316, 45316, 45320, 45320, 45316, 45316, 45320, 45320, 45316, 45320, 45320, 45316, 45320, 45320, 45320, 45316, 45316, 45316, 45316, 45316, 45316, 45316, 45316, 45316, 45316, 45315, 45316, 45316, 45316, 45316, 45316, 45316, 45316, 45316, 45315, 45316, 45315, 45316, 45316, 45316, 45316, 45316, 45316, 45316, 45316, 45316, 45316, 45316, 45316, 45316, 45316, 45316, 45315, 45316, 45316, 45316, 45316, 45320, 45316, 45316, 45315, 45316, 45316, 45316, 45315, 45315, 45316, 45315, 45316, 45315, 45315, 45316, 45316, 45316, 45316, 45315, 45316, 45316, 45316, 45316, 45315, 45316, 45316, 45316, 45316, 45316, 45316, 45316, 45316, 45316, 45320, 45316, 45316, 45316, 45315, 45316, 45320, 45316, 45316, 45316, 45316, 45316, 45316, 45316, 45316, 45316, 45316, 45316, 45316, 45316, 45316, 45315, 45316, 45316, 45315, 45316, 45316, 45316, 45316, 45316, 45316, 45316, 45316, 45316, 45316, 45315, 45316, 45315, 45320, 45322, 45320, 45320, 45316, 45316, 45316, 45316, 45316, 45316, 45316, 45320, 45320, 45315, 45316, 45316, 45316, 45315, 45316, 45316, 45316, 45322, 45320, 45320, 45320, 45320, 45320, 45320, 45320, 45320, 45320, 45320, 45320, 45320, 45320, 45316, 45316, 45316, 45316, 45316, 45316, 45316, 45320, 45320, 45320, 45320, 45320, 45320, 45320, 45320, 45316, 45320, 45316, 45316, 45316, 45320, 45316, 45320, 45316, 45320, 45320, 45320, 45320, 45320, 45320, 45316, 45320, 45320, 45316, 45316, 45320, 45320, 45320, 45316, 45320, 45320, 45316, 45316, 45316, 45320, 45316, 45320, 45320, 45316, 45316, 45320, 45320, 45320, 45320, 45320, 45320, 45320, 45320, 45320, 45320, 45320, 45320, 45320, 45320, 45320, 45316, 45320, 45320, 45320, 45320, 45320, 45320, 45320, 45320, 45320, 45316, 45320, 45320, 45320, 45320, 45320, 45320, 45320, 45320, 45320, 45320, 45320, 45322, 45315, 45320, 45320, 45320, 45322, 45322, 45322, 45322, 45322, 45322, 45322, 45320, 45322, 45322, 45322, 45320, 45320, 45322, 45322, 45322, 45322, 45322, 45322, 45322, 45322, 45320, 45320, 45320, 45320, 45320, 45320, 45320, 45320, 45320, 45320, 45320, 45320, 45320, 45320, 45320, 45320, 45320, 45320, 45320, 45320, 45320, 45316, 45320, 45320, 45320, 45320, 45320, 45320, 45320, 45320, 45320, 45320, 45320, 45320, 45320, 45320, 45320, 45320, 45320, 45320, 45320, 45320, 45320, 45320, 45320, 45320, 45320, 45320, 45320, 45320, 45320, 45316, 45316, 45320, 45320, 45320, 45320, 45320, 45320, 45320, 45320, 45320, 45320, 45320, 45320, 45320, 45320, 45320, 45320, 45320, 45320, 45320, 45320, 45320, 45320, 45320, 45320, 45320, 45320, 45320, 45320, 45320, 45320, 45320, 45320, 45320, 45320, 45320, 45320, 45320, 45320, 45320, 45320, 45320, 45320, 45320, 45320, 45320, 45320, 45320, 45320, 45320, 45320, 45320, 45320, 45320, 45320, 45320, 45320, 45320, 45320, 45320, 45320, 45320, 45316, 45320, 45320, 45320, 45316, 45320, 45320, 45320, 45320, 45320, 45320, 45320, 45320, 45320, 45320, 45320, 45320, 45320, 45320, 45320, 45316, 45320, 45320, 45320, 45320, 45320, 45320, 45320, 45322, 45322, 45322, 45322, 45322, 45322, 45322, 45322, 45322, 45322, 45322, 45320, 45322, 45322, 45322, 45322, 45320, 45320, 45322, 45322, 45322, 45322, 45322, 45322, 45322, 45322, 45322, 45320, 45322, 45322, 45322, 45322, 45322, 45322, 45322, 45322, 45322, 45322, 45322, 45322, 45322, 45322, 45322, 45322, 45322, 45322, 45322, 45322, 45322, 45322, 45322, 45322, 45322, 45322, 45322, 45322, 45322, 45322, 45322, 45322, 45320, 45322, 45322, 45322, 45316, 45322, 45322, 45322, 45322, 45320, 45320, 45320, 45322, 45322, 45320, 45320, 45320, 45316, 45316, 45320, 45320, 45320, 45320, 45320, 45320, 45320, 45320, 45320, 45320, 45320, 45320, 45320, 45320, 45320, 45320, 45320, 45320, 45320, 45320, 45320, 45320, 45320, 45320, 45320, 45320, 45320, 45320, 45316, 45320, 45320, 45316, 45320, 45320, 45320, 45320, 45320, 45320, 45320, 45320, 45320, 45316, 45320, 45320, 45320, 45320, 45320, 45320, 45320, 45322, 45322, 45322, 45322, 45322, 45322, 45322, 45322, 45320, 45322, 45322, 45316, 45322, 45322, 45320, 45320, 45320, 45320, 45320, 45322, 45322, 45320, 45320, 45322, 45322, 45320, 45322, 45320, 45320, 45320, 45322, 45322, 45322, 45322, 45322, 45320, 45320, 45320, 45320, 45322, 45320, 45320, 45322, 45322, 45322, 45322, 45322, 45322, 45322, 45322, 45322, 45322, 45322, 45322, 45322, 45320, 45322, 45322, 45320, 45322, 45322, 45322, 45322, 45322, 45320, 45320, 45320, 45316, 45322, 45322, 45320, 45320, 45320, 45320, 45322, 45322, 45322, 45316, 45322, 45322, 45322, 45322, 45322, 45322, 45322, 45322, 45322, 45322, 45322, 45320, 45320, 45322, 45322, 45322, 45322, 45322, 45322, 45320, 45320, 45322, 45320, 45322, 45322, 45320, 45316, 45320, 45322, 45322, 45322, 45322, 45322, 45322, 45322, 45322, 45322, 45322, 45315, 45320, 45322, 45322, 45322, 45322, 45322, 45320, 45322, 45322, 45322, 45322, 45322, 45322, 45322, 45320, 45320, 45322, 45322, 45322, 45322, 45322, 45322, 45322, 45322, 45322, 45322, 45322, 45322, 45322, 45322, 45322, 45322, 45322, 45322, 45322, 45322, 45322, 45320, 45322, 45322, 45322, 45322, 45322, 45322, 45322, 45322, 45322, 45322, 45322, 45322, 45322, 45322, 45322, 45322, 45322, 45322, 45322, 45322, 45322, 45322, 45322, 45322, 45322, 45322, 45322, 45322, 45322, 45322, 45322, 45322, 45322, 45322, 45322, 45322, 45322, 45322, 45322, 45322, 45322, 45322, 45322, 45322, 45322, 45322, 45322, 45322, 45322, 45322, 45322, 45322, 45322, 45322, 45322, 45322, 45322, 45322, 45322, 45322, 45322, 45322, 45322, 45322, 45320, 45322, 45322, 45322, 45322, 45322, 45322, 45322, 45320, 45322, 45322, 45320, 45322, 45322, 45322, 45320, 45322, 45322, 45322, 45322, 45322, 45322, 45322, 45322, 45320, 45320, 45320, 45322, 45320, 45322, 45322 \n",
    "    ],\n",
    "    'Truck number':\n",
    "    [\n",
    "        '45', '45', '48', '48', '47', '47', '47', '47', '47', '47', '47', '47', '47', '47', '47', '47', '47', '47', '47', '47', '48', '47', '47', '47', '47', '47', '47', '47', '47', '47', '47', '47', '47', '47', '47', '48', '48', '48', '48', '48', '48', '48', '48', '48', '48', '48', '48', '47', '48', '48', '47', '47', '48', '48', '45', '45', '48', '47', '47', '48', '48', '47', '45', '45', '45', '47', '48', '48', '45', '48', '45', '45', '45', '48', '47', '47', '45', '37', '37', '45', '47', '47', '47', '45', '48', '45', '45', '45', '47', '48', '48', '45', '48', '47', '47', '47', '45', '45', '45', '48', '45', '45', '45', '45', '45', '45', '45', '45', '45', '47', '47', '47', '45', '48', '48', '45', '45', '45', '45', '45', '45', '48', '48', '48', '45', '47', '45', '45', '48', '48', '45', '45', '45', '45', '45', '48', '47', '47', '47', '47', '47', '47', '47', '45', '47', '47', '47', '45', '47', '45', '48', '47', '47', '48', '47', '47', '48', '48', '47', '48', '47', '47', '45', '49', '49', '49', '45', '47', '47', '49', '47', '49', '47', '49', '48', '47', '48', '47', '47', '49', '49', '47', '49', '49', '49', '49', '47', '49', '49', '49', '49', '49', '49', '49', '49', '49', '49', '49', '47', '48', '47', '47', '49', '49', '47', '47', '49', '49', '48', '49', '49', '48', '49', '49', '49', '47', '47', '48', '47', '48', '48', '48', '47', '47', '47', '45', '47', '47', '48', '48', '47', '47', '47', '47', '45', '47', '45', '48', '48', '48', '47', '48', '47', '48', '48', '47', '48', '47', '48', '48', '48', '48', '45', '48', '48', '47', '47', '49', '47', '48', '45', '48', '48', '48', '45', '45', '47', '45', '47', '45', '45', '47', '47', '47', '47', '45', '47', '47', '47', '48', '45', '48', '48', '48', '47', '48', '48', '48', '47', '48', '49', '48', '47', '48', '45', '47', '49', '48', '48', '47', '47', '47', '48', '47', '47', '48', '47', '48', '47', '47', '47', '45', '47', '48', '45', '47', '48', '47', '47', '48', '47', '47', '47', '47', '47', '45', '48', '45', '49', '37', '49', '49', '48', '48', '48', '48', '48', '48', '48', '49', '49', '45', '48', '47', '47', '45', '47', '48', '48', '37', '49', '49', '49', '49', '49', '49', '49', '49', '50', '50', '49', '50', '50', '47', '47', '47', '47', '47', '48', '47', '49', '49', '49', '49', '49', '49', '49', '49', '47', '49', '47', '48', '47', '49', '48', '50', '47', '50', '49', '49', '49', '49', '49', '47', '49', '49', '48', '47', '50', '49', '50', '47', '49', '50', '47', '48', '47', '50', '47', '49', '50', '48', '47', '49', '50', '50', '50', '50', '50', '50', '49', '50', '50', '50', '50', '49', '49', '49', '47', '49', '49', '49', '49', '49', '49', '49', '49', '49', '48', '49', '49', '49', '49', '50', '50', '49', '49', '49', '49', '50', '37', '45', '50', '50', '50', '37', '37', '37', '37', '37', '37', '37', '49', '37', '37', '37', '49', '49', '37', '37', '37', '37', '37', '37', '37', '37', '49', '49', '50', '49', '50', '50', '50', '50', '50', '50', '50', '50', '49', '50', '49', '49', '49', '49', '49', '50', '49', '47', '49', '50', '49', '49', '49', '49', '49', '49', '49', '49', '49', '49', '49', '50', '49', '49', '49', '49', '49', '50', '50', '50', '49', '49', '49', '49', '49', '50', '50', '48', '48', '49', '49', '50', '49', '50', '50', '50', '50', '49', '50', '50', '50', '50', '50', '49', '50', '50', '49', '49', '49', '50', '49', '50', '50', '49', '50', '50', '49', '49', '49', '49', '49', '50', '49', '50', '49', '49', '49', '50', '49', '49', '49', '50', '49', '50', '50', '50', '49', '49', '49', '49', '49', '49', '50', '50', '49', '49', '49', '49', '50', '49', '47', '50', '50', '49', '48', '50', '49', '50', '49', '50', '49', '49', '49', '50', '50', '49', '49', '49', '50', '49', '48', '49', '50', '49', '50', '49', '49', '49', '37', '39', '37', '37', '39', '37', '37', '37', '37', '37', '37', '49', '37', '37', '37', '37', '49', '49', '37', '37', '37', '37', '37', '37', '37', '37', '37', '49', '37', '37', '37', '37', '37', '37', '37', '37', '37', '37', '37', '37', '37', '37', '37', '37', '37', '37', '37', '37', '37', '37', '37', '37', '37', '37', '37', '37', '37', '37', '37', '37', '49', '37', '37', '37', '48', '37', '37', '37', '37', '49', '49', '49', '37', '37', '49', '49', '49', '47', '48', '49', '49', '49', '49', '49', '50', '49', '49', '49', '49', '49', '49', '49', '49', '49', '49', '49', '49', '49', '49', '49', '49', '49', '49', '49', '49', '49', '49', '48', '50', '50', '48', '49', '49', '49', '49', '49', '49', '49', '49', '49', '47', '50', '50', '50', '50', '49', '49', '49', '37', '37', '37', '37', '37', '37', '37', '37', '50', '37', '37', '48', '37', '37', '50', '49', '50', '50', '49', '37', '37', '50', '50', '37', '37', '50', '37', '50', '50', '50', '37', '37', '37', '37', '37', '49', '50', '50', '50', '37', '49', '50', '37', '37', '37', '37', '37', '37', '37', '37', '37', '37', '37', '37', '37', '50', '37', '37', '50', '37', '37', '37', '37', '37', '49', '50', '50', '47', '37', '37', '50', '50', '50', '50', '37', '37', '37', '48', '37', '37', '37', '37', '37', '37', '37', '37', '37', '37', '37', '50', '50', '37', '37', '37', '37', '37', '37', '49', '50', '37', '50', '37', '37', '50', '47', '50', '37', '37', '37', '37', '37', '37', '37', '37', '37', '37', '45', '50', '37', '37', '37', '37', '37', '50', '37', '37', '37', '37', '37', '37', '37', '49', '50', '37', '37', '37', '37', '37', '37', '37', '37', '37', '37', '37', '37', '37', '37', '37', '37', '37', '37', '37', '37', '37', '49', '37', '37', '37', '37', '37', '37', '37', '37', '37', '37', '37', '37', '37', '37', '37', '37', '37', '37', '37', '37', '37', '37', '37', '37', '37', '37', '37', '37', '37', '37', '37', '37', '37', '37', '37', '37', '37', '37', '37', '37', '37', '37', '37', '37', '37', '37', '37', '37', '37', '37', '37', '37', '37', '37', '37', '37', '37', '37', '37', '37', '37', '37', '37', '37', '50', '37', '37', '37', '39', '37', '37', '37', '50', '37', '37', '50', '37', '37', '37', '50', '37', '37', '37', '37', '37', '37', '37', '37', '49', '50', '50', '37', '50', '37', '37'\n",
    "    ]\n",
    "})"
   ]
  },
  {
   "cell_type": "code",
   "execution_count": 101,
   "id": "10da00bf",
   "metadata": {},
   "outputs": [
    {
     "data": {
      "text/html": [
       "<div>\n",
       "<style scoped>\n",
       "    .dataframe tbody tr th:only-of-type {\n",
       "        vertical-align: middle;\n",
       "    }\n",
       "\n",
       "    .dataframe tbody tr th {\n",
       "        vertical-align: top;\n",
       "    }\n",
       "\n",
       "    .dataframe thead th {\n",
       "        text-align: right;\n",
       "    }\n",
       "</style>\n",
       "<table border=\"1\" class=\"dataframe\">\n",
       "  <thead>\n",
       "    <tr style=\"text-align: right;\">\n",
       "      <th></th>\n",
       "      <th>WMS order number 2</th>\n",
       "      <th>Status</th>\n",
       "      <th>Arrival date</th>\n",
       "      <th>Truck number</th>\n",
       "    </tr>\n",
       "  </thead>\n",
       "  <tbody>\n",
       "    <tr>\n",
       "      <th>0</th>\n",
       "      <td>41339</td>\n",
       "      <td>Cargo arrived at BWH</td>\n",
       "      <td>45315</td>\n",
       "      <td>45</td>\n",
       "    </tr>\n",
       "    <tr>\n",
       "      <th>1</th>\n",
       "      <td>41343</td>\n",
       "      <td>Cargo arrived at BWH</td>\n",
       "      <td>45315</td>\n",
       "      <td>45</td>\n",
       "    </tr>\n",
       "    <tr>\n",
       "      <th>2</th>\n",
       "      <td>41754</td>\n",
       "      <td>Cargo arrived at BWH</td>\n",
       "      <td>45316</td>\n",
       "      <td>48</td>\n",
       "    </tr>\n",
       "    <tr>\n",
       "      <th>3</th>\n",
       "      <td>41884</td>\n",
       "      <td>Cargo arrived at BWH</td>\n",
       "      <td>45316</td>\n",
       "      <td>48</td>\n",
       "    </tr>\n",
       "    <tr>\n",
       "      <th>4</th>\n",
       "      <td>41778</td>\n",
       "      <td>On shelf</td>\n",
       "      <td>45316</td>\n",
       "      <td>47</td>\n",
       "    </tr>\n",
       "  </tbody>\n",
       "</table>\n",
       "</div>"
      ],
      "text/plain": [
       "  WMS order number 2                Status  Arrival date Truck number\n",
       "0              41339  Cargo arrived at BWH         45315           45\n",
       "1              41343  Cargo arrived at BWH         45315           45\n",
       "2              41754  Cargo arrived at BWH         45316           48\n",
       "3              41884  Cargo arrived at BWH         45316           48\n",
       "4              41778              On shelf         45316           47"
      ]
     },
     "execution_count": 101,
     "metadata": {},
     "output_type": "execute_result"
    }
   ],
   "source": [
    "data2.head()"
   ]
  },
  {
   "cell_type": "code",
   "execution_count": 102,
   "id": "228e7d46",
   "metadata": {},
   "outputs": [
    {
     "name": "stdout",
     "output_type": "stream",
     "text": [
      "<class 'pandas.core.frame.DataFrame'>\n",
      "RangeIndex: 996 entries, 0 to 995\n",
      "Data columns (total 4 columns):\n",
      " #   Column              Non-Null Count  Dtype \n",
      "---  ------              --------------  ----- \n",
      " 0   WMS order number 2  996 non-null    object\n",
      " 1   Status              996 non-null    object\n",
      " 2   Arrival date        996 non-null    int64 \n",
      " 3   Truck number        996 non-null    object\n",
      "dtypes: int64(1), object(3)\n",
      "memory usage: 31.2+ KB\n"
     ]
    }
   ],
   "source": [
    "data2.info()"
   ]
  },
  {
   "cell_type": "code",
   "execution_count": 103,
   "id": "4e159aab",
   "metadata": {},
   "outputs": [
    {
     "name": "stdout",
     "output_type": "stream",
     "text": [
      "Минимальная дата: 2024-01-24 00:00:00\n",
      "Максимальная дата: 2024-01-31 00:00:00\n"
     ]
    }
   ],
   "source": [
    "excel_start_date = datetime.datetime(1899, 12, 30)\n",
    "\n",
    "data2['Arrival date normal'] = excel_start_date + pd.to_timedelta(data2['Arrival date'], unit='D')\n",
    "\n",
    "\n",
    "min_date = data2['Arrival date normal'].min()\n",
    "max_date = data2['Arrival date normal'].max()\n",
    "\n",
    "print(\"Минимальная дата:\", min_date)\n",
    "print(\"Максимальная дата:\", max_date)"
   ]
  },
  {
   "cell_type": "code",
   "execution_count": 104,
   "id": "a9b1f43b",
   "metadata": {},
   "outputs": [
    {
     "data": {
      "text/html": [
       "<div>\n",
       "<style scoped>\n",
       "    .dataframe tbody tr th:only-of-type {\n",
       "        vertical-align: middle;\n",
       "    }\n",
       "\n",
       "    .dataframe tbody tr th {\n",
       "        vertical-align: top;\n",
       "    }\n",
       "\n",
       "    .dataframe thead th {\n",
       "        text-align: right;\n",
       "    }\n",
       "</style>\n",
       "<table border=\"1\" class=\"dataframe\">\n",
       "  <thead>\n",
       "    <tr style=\"text-align: right;\">\n",
       "      <th></th>\n",
       "      <th>WMS order number 2</th>\n",
       "      <th>Status</th>\n",
       "      <th>Arrival date</th>\n",
       "      <th>Truck number</th>\n",
       "      <th>Arrival date normal</th>\n",
       "    </tr>\n",
       "  </thead>\n",
       "  <tbody>\n",
       "    <tr>\n",
       "      <th>0</th>\n",
       "      <td>41339</td>\n",
       "      <td>Cargo arrived at BWH</td>\n",
       "      <td>45315</td>\n",
       "      <td>45</td>\n",
       "      <td>2024-01-24</td>\n",
       "    </tr>\n",
       "    <tr>\n",
       "      <th>1</th>\n",
       "      <td>41343</td>\n",
       "      <td>Cargo arrived at BWH</td>\n",
       "      <td>45315</td>\n",
       "      <td>45</td>\n",
       "      <td>2024-01-24</td>\n",
       "    </tr>\n",
       "    <tr>\n",
       "      <th>2</th>\n",
       "      <td>41754</td>\n",
       "      <td>Cargo arrived at BWH</td>\n",
       "      <td>45316</td>\n",
       "      <td>48</td>\n",
       "      <td>2024-01-25</td>\n",
       "    </tr>\n",
       "    <tr>\n",
       "      <th>3</th>\n",
       "      <td>41884</td>\n",
       "      <td>Cargo arrived at BWH</td>\n",
       "      <td>45316</td>\n",
       "      <td>48</td>\n",
       "      <td>2024-01-25</td>\n",
       "    </tr>\n",
       "    <tr>\n",
       "      <th>4</th>\n",
       "      <td>41778</td>\n",
       "      <td>On shelf</td>\n",
       "      <td>45316</td>\n",
       "      <td>47</td>\n",
       "      <td>2024-01-25</td>\n",
       "    </tr>\n",
       "  </tbody>\n",
       "</table>\n",
       "</div>"
      ],
      "text/plain": [
       "  WMS order number 2                Status  Arrival date Truck number  \\\n",
       "0              41339  Cargo arrived at BWH         45315           45   \n",
       "1              41343  Cargo arrived at BWH         45315           45   \n",
       "2              41754  Cargo arrived at BWH         45316           48   \n",
       "3              41884  Cargo arrived at BWH         45316           48   \n",
       "4              41778              On shelf         45316           47   \n",
       "\n",
       "  Arrival date normal  \n",
       "0          2024-01-24  \n",
       "1          2024-01-24  \n",
       "2          2024-01-25  \n",
       "3          2024-01-25  \n",
       "4          2024-01-25  "
      ]
     },
     "execution_count": 104,
     "metadata": {},
     "output_type": "execute_result"
    }
   ],
   "source": [
    "data2.head()"
   ]
  },
  {
   "cell_type": "code",
   "execution_count": 105,
   "id": "afa219e0",
   "metadata": {},
   "outputs": [
    {
     "name": "stdout",
     "output_type": "stream",
     "text": [
      "<class 'pandas.core.frame.DataFrame'>\n",
      "RangeIndex: 996 entries, 0 to 995\n",
      "Data columns (total 5 columns):\n",
      " #   Column               Non-Null Count  Dtype         \n",
      "---  ------               --------------  -----         \n",
      " 0   WMS order number 2   996 non-null    object        \n",
      " 1   Status               996 non-null    object        \n",
      " 2   Arrival date         996 non-null    int64         \n",
      " 3   Truck number         996 non-null    object        \n",
      " 4   Arrival date normal  996 non-null    datetime64[ns]\n",
      "dtypes: datetime64[ns](1), int64(1), object(3)\n",
      "memory usage: 39.0+ KB\n"
     ]
    }
   ],
   "source": [
    "data2.info()"
   ]
  },
  {
   "cell_type": "markdown",
   "id": "dc2cce22",
   "metadata": {},
   "source": [
    "- Таблица с процентным соотношением по каждому из статусов для каждого трака"
   ]
  },
  {
   "cell_type": "code",
   "execution_count": 106,
   "id": "abb09238",
   "metadata": {},
   "outputs": [
    {
     "data": {
      "text/html": [
       "<div>\n",
       "<style scoped>\n",
       "    .dataframe tbody tr th:only-of-type {\n",
       "        vertical-align: middle;\n",
       "    }\n",
       "\n",
       "    .dataframe tbody tr th {\n",
       "        vertical-align: top;\n",
       "    }\n",
       "\n",
       "    .dataframe thead th {\n",
       "        text-align: right;\n",
       "    }\n",
       "</style>\n",
       "<table border=\"1\" class=\"dataframe\">\n",
       "  <thead>\n",
       "    <tr style=\"text-align: right;\">\n",
       "      <th></th>\n",
       "      <th>Truck number</th>\n",
       "      <th>Status</th>\n",
       "      <th>Count</th>\n",
       "      <th>Total</th>\n",
       "      <th>Percentage</th>\n",
       "    </tr>\n",
       "  </thead>\n",
       "  <tbody>\n",
       "    <tr>\n",
       "      <th>0</th>\n",
       "      <td>37</td>\n",
       "      <td>Cargo arrived at BWH</td>\n",
       "      <td>4</td>\n",
       "      <td>283</td>\n",
       "      <td>1.413428</td>\n",
       "    </tr>\n",
       "    <tr>\n",
       "      <th>1</th>\n",
       "      <td>37</td>\n",
       "      <td>Customs declaration</td>\n",
       "      <td>1</td>\n",
       "      <td>283</td>\n",
       "      <td>0.353357</td>\n",
       "    </tr>\n",
       "    <tr>\n",
       "      <th>2</th>\n",
       "      <td>37</td>\n",
       "      <td>On shelf</td>\n",
       "      <td>278</td>\n",
       "      <td>283</td>\n",
       "      <td>98.233216</td>\n",
       "    </tr>\n",
       "    <tr>\n",
       "      <th>3</th>\n",
       "      <td>39</td>\n",
       "      <td>On shelf</td>\n",
       "      <td>3</td>\n",
       "      <td>3</td>\n",
       "      <td>100.000000</td>\n",
       "    </tr>\n",
       "    <tr>\n",
       "      <th>4</th>\n",
       "      <td>45</td>\n",
       "      <td>Cargo arrived at BWH</td>\n",
       "      <td>2</td>\n",
       "      <td>71</td>\n",
       "      <td>2.816901</td>\n",
       "    </tr>\n",
       "    <tr>\n",
       "      <th>5</th>\n",
       "      <td>45</td>\n",
       "      <td>On shelf</td>\n",
       "      <td>69</td>\n",
       "      <td>71</td>\n",
       "      <td>97.183099</td>\n",
       "    </tr>\n",
       "    <tr>\n",
       "      <th>6</th>\n",
       "      <td>47</td>\n",
       "      <td>On shelf</td>\n",
       "      <td>160</td>\n",
       "      <td>160</td>\n",
       "      <td>100.000000</td>\n",
       "    </tr>\n",
       "    <tr>\n",
       "      <th>7</th>\n",
       "      <td>48</td>\n",
       "      <td>Cargo arrived at BWH</td>\n",
       "      <td>2</td>\n",
       "      <td>118</td>\n",
       "      <td>1.694915</td>\n",
       "    </tr>\n",
       "    <tr>\n",
       "      <th>8</th>\n",
       "      <td>48</td>\n",
       "      <td>Customs declaration</td>\n",
       "      <td>2</td>\n",
       "      <td>118</td>\n",
       "      <td>1.694915</td>\n",
       "    </tr>\n",
       "    <tr>\n",
       "      <th>9</th>\n",
       "      <td>48</td>\n",
       "      <td>On shelf</td>\n",
       "      <td>114</td>\n",
       "      <td>118</td>\n",
       "      <td>96.610169</td>\n",
       "    </tr>\n",
       "    <tr>\n",
       "      <th>10</th>\n",
       "      <td>49</td>\n",
       "      <td>Cargo arrived at BWH</td>\n",
       "      <td>6</td>\n",
       "      <td>234</td>\n",
       "      <td>2.564103</td>\n",
       "    </tr>\n",
       "    <tr>\n",
       "      <th>11</th>\n",
       "      <td>49</td>\n",
       "      <td>On shelf</td>\n",
       "      <td>228</td>\n",
       "      <td>234</td>\n",
       "      <td>97.435897</td>\n",
       "    </tr>\n",
       "    <tr>\n",
       "      <th>12</th>\n",
       "      <td>50</td>\n",
       "      <td>Customs declaration</td>\n",
       "      <td>1</td>\n",
       "      <td>127</td>\n",
       "      <td>0.787402</td>\n",
       "    </tr>\n",
       "    <tr>\n",
       "      <th>13</th>\n",
       "      <td>50</td>\n",
       "      <td>On shelf</td>\n",
       "      <td>126</td>\n",
       "      <td>127</td>\n",
       "      <td>99.212598</td>\n",
       "    </tr>\n",
       "  </tbody>\n",
       "</table>\n",
       "</div>"
      ],
      "text/plain": [
       "   Truck number                Status  Count  Total  Percentage\n",
       "0            37  Cargo arrived at BWH      4    283    1.413428\n",
       "1            37   Customs declaration      1    283    0.353357\n",
       "2            37              On shelf    278    283   98.233216\n",
       "3            39              On shelf      3      3  100.000000\n",
       "4            45  Cargo arrived at BWH      2     71    2.816901\n",
       "5            45              On shelf     69     71   97.183099\n",
       "6            47              On shelf    160    160  100.000000\n",
       "7            48  Cargo arrived at BWH      2    118    1.694915\n",
       "8            48   Customs declaration      2    118    1.694915\n",
       "9            48              On shelf    114    118   96.610169\n",
       "10           49  Cargo arrived at BWH      6    234    2.564103\n",
       "11           49              On shelf    228    234   97.435897\n",
       "12           50   Customs declaration      1    127    0.787402\n",
       "13           50              On shelf    126    127   99.212598"
      ]
     },
     "execution_count": 106,
     "metadata": {},
     "output_type": "execute_result"
    }
   ],
   "source": [
    "status_counts = data2.groupby(['Truck number', 'Status']).size().reset_index(name='Count')\n",
    "\n",
    "truck_counts = data2.groupby('Truck number').size().reset_index(name='Total')\n",
    "\n",
    "merged = pd.merge(status_counts, truck_counts, on='Truck number')\n",
    "\n",
    "merged['Percentage'] = (merged['Count'] / merged['Total']) * 100\n",
    "merged\n"
   ]
  },
  {
   "cell_type": "markdown",
   "id": "1f4a65f7",
   "metadata": {},
   "source": [
    "- Какие траки были рассмотрены за этот период"
   ]
  },
  {
   "cell_type": "code",
   "execution_count": 107,
   "id": "b0b58ddc",
   "metadata": {},
   "outputs": [],
   "source": [
    "unique_truck_numbers = data2['Truck number'].unique()"
   ]
  },
  {
   "cell_type": "code",
   "execution_count": 108,
   "id": "c1abd29f",
   "metadata": {},
   "outputs": [
    {
     "data": {
      "text/plain": [
       "array(['45', '48', '47', '37', '49', '50', '39'], dtype=object)"
      ]
     },
     "execution_count": 108,
     "metadata": {},
     "output_type": "execute_result"
    }
   ],
   "source": [
    "unique_truck_numbers"
   ]
  },
  {
   "cell_type": "code",
   "execution_count": 109,
   "id": "c8128884",
   "metadata": {},
   "outputs": [
    {
     "name": "stdout",
     "output_type": "stream",
     "text": [
      "<class 'pandas.core.frame.DataFrame'>\n",
      "Int64Index: 14 entries, 0 to 13\n",
      "Data columns (total 5 columns):\n",
      " #   Column        Non-Null Count  Dtype  \n",
      "---  ------        --------------  -----  \n",
      " 0   Truck number  14 non-null     object \n",
      " 1   Status        14 non-null     object \n",
      " 2   Count         14 non-null     int64  \n",
      " 3   Total         14 non-null     int64  \n",
      " 4   Percentage    14 non-null     float64\n",
      "dtypes: float64(1), int64(2), object(2)\n",
      "memory usage: 672.0+ bytes\n"
     ]
    }
   ],
   "source": [
    "merged.info()"
   ]
  },
  {
   "cell_type": "code",
   "execution_count": 110,
   "id": "2eee0f50",
   "metadata": {},
   "outputs": [
    {
     "data": {
      "text/plain": [
       "<Figure size 7200x7200 with 0 Axes>"
      ]
     },
     "metadata": {},
     "output_type": "display_data"
    },
    {
     "data": {
      "image/png": "[encoded data removed]",
      "text/plain": [
       "<Figure size 432x288 with 1 Axes>"
      ]
     },
     "metadata": {
      "needs_background": "light"
     },
     "output_type": "display_data"
    }
   ],
   "source": [
    "merged['Truck number'] = pd.to_numeric(merged['Truck number'])\n",
    "\n",
    "pivot_df = merged.pivot(index='Truck number', columns='Status', values='Percentage').fillna(0)\n",
    "\n",
    "plt.figure(figsize=(100, 100))\n",
    "pivot_df.plot(kind='bar', stacked=True, cmap='Set3')  \n",
    "plt.xlabel('Truck number', fontsize=14)\n",
    "plt.ylabel('Percentage', fontsize=14)\n",
    "plt.title('Percentage of Status for Each Truck Number', fontsize=16)\n",
    "plt.xticks(rotation=45, ha='right', fontsize=12)\n",
    "plt.yticks(fontsize=12)\n",
    "plt.legend(title='Status', fontsize=12)\n",
    "plt.tight_layout()\n",
    "plt.show()"
   ]
  },
  {
   "cell_type": "code",
   "execution_count": 111,
   "id": "fa1ae3b2",
   "metadata": {},
   "outputs": [
    {
     "data": {
      "application/vnd.plotly.v1+json": {
       "config": {
        "plotlyServerURL": "https://plot.ly"
       },
       "data": [
        {
         "name": "Cargo arrived at BWH",
         "type": "bar",
         "x": [
          37,
          39,
          45,
          47,
          48,
          49,
          50
         ],
         "y": [
          1.4134275618374559,
          0,
          2.8169014084507045,
          0,
          1.694915254237288,
          2.564102564102564,
          0
         ]
        },
        {
         "name": "Customs declaration",
         "type": "bar",
         "x": [
          37,
          39,
          45,
          47,
          48,
          49,
          50
         ],
         "y": [
          0.35335689045936397,
          0,
          0,
          0,
          1.694915254237288,
          0,
          0.7874015748031495
         ]
        },
        {
         "name": "On shelf",
         "type": "bar",
         "x": [
          37,
          39,
          45,
          47,
          48,
          49,
          50
         ],
         "y": [
          98.23321554770318,
          100,
          97.1830985915493,
          100,
          96.61016949152543,
          97.43589743589743,
          99.21259842519686
         ]
        }
       ],
       "layout": {
        "barmode": "stack",
        "font": {
         "size": 12
        },
        "height": 1000,
        "legend": {
         "title": {
          "text": "Status"
         }
        },
        "template": {
         "data": {
          "bar": [
           {
            "error_x": {
             "color": "#2a3f5f"
            },
            "error_y": {
             "color": "#2a3f5f"
            },
            "marker": {
             "line": {
              "color": "#E5ECF6",
              "width": 0.5
             },
             "pattern": {
              "fillmode": "overlay",
              "size": 10,
              "solidity": 0.2
             }
            },
            "type": "bar"
           }
          ],
          "barpolar": [
           {
            "marker": {
             "line": {
              "color": "#E5ECF6",
              "width": 0.5
             },
             "pattern": {
              "fillmode": "overlay",
              "size": 10,
              "solidity": 0.2
             }
            },
            "type": "barpolar"
           }
          ],
          "carpet": [
           {
            "aaxis": {
             "endlinecolor": "#2a3f5f",
             "gridcolor": "white",
             "linecolor": "white",
             "minorgridcolor": "white",
             "startlinecolor": "#2a3f5f"
            },
            "baxis": {
             "endlinecolor": "#2a3f5f",
             "gridcolor": "white",
             "linecolor": "white",
             "minorgridcolor": "white",
             "startlinecolor": "#2a3f5f"
            },
            "type": "carpet"
           }
          ],
          "choropleth": [
           {
            "colorbar": {
             "outlinewidth": 0,
             "ticks": ""
            },
            "type": "choropleth"
           }
          ],
          "contour": [
           {
            "colorbar": {
             "outlinewidth": 0,
             "ticks": ""
            },
            "colorscale": [
             [
              0,
              "#0d0887"
             ],
             [
              0.1111111111111111,
              "#46039f"
             ],
             [
              0.2222222222222222,
              "#7201a8"
             ],
             [
              0.3333333333333333,
              "#9c179e"
             ],
             [
              0.4444444444444444,
              "#bd3786"
             ],
             [
              0.5555555555555556,
              "#d8576b"
             ],
             [
              0.6666666666666666,
              "#ed7953"
             ],
             [
              0.7777777777777778,
              "#fb9f3a"
             ],
             [
              0.8888888888888888,
              "#fdca26"
             ],
             [
              1,
              "#f0f921"
             ]
            ],
            "type": "contour"
           }
          ],
          "contourcarpet": [
           {
            "colorbar": {
             "outlinewidth": 0,
             "ticks": ""
            },
            "type": "contourcarpet"
           }
          ],
          "heatmap": [
           {
            "colorbar": {
             "outlinewidth": 0,
             "ticks": ""
            },
            "colorscale": [
             [
              0,
              "#0d0887"
             ],
             [
              0.1111111111111111,
              "#46039f"
             ],
             [
              0.2222222222222222,
              "#7201a8"
             ],
             [
              0.3333333333333333,
              "#9c179e"
             ],
             [
              0.4444444444444444,
              "#bd3786"
             ],
             [
              0.5555555555555556,
              "#d8576b"
             ],
             [
              0.6666666666666666,
              "#ed7953"
             ],
             [
              0.7777777777777778,
              "#fb9f3a"
             ],
             [
              0.8888888888888888,
              "#fdca26"
             ],
             [
              1,
              "#f0f921"
             ]
            ],
            "type": "heatmap"
           }
          ],
          "heatmapgl": [
           {
            "colorbar": {
             "outlinewidth": 0,
             "ticks": ""
            },
            "colorscale": [
             [
              0,
              "#0d0887"
             ],
             [
              0.1111111111111111,
              "#46039f"
             ],
             [
              0.2222222222222222,
              "#7201a8"
             ],
             [
              0.3333333333333333,
              "#9c179e"
             ],
             [
              0.4444444444444444,
              "#bd3786"
             ],
             [
              0.5555555555555556,
              "#d8576b"
             ],
             [
              0.6666666666666666,
              "#ed7953"
             ],
             [
              0.7777777777777778,
              "#fb9f3a"
             ],
             [
              0.8888888888888888,
              "#fdca26"
             ],
             [
              1,
              "#f0f921"
             ]
            ],
            "type": "heatmapgl"
           }
          ],
          "histogram": [
           {
            "marker": {
             "pattern": {
              "fillmode": "overlay",
              "size": 10,
              "solidity": 0.2
             }
            },
            "type": "histogram"
           }
          ],
          "histogram2d": [
           {
            "colorbar": {
             "outlinewidth": 0,
             "ticks": ""
            },
            "colorscale": [
             [
              0,
              "#0d0887"
             ],
             [
              0.1111111111111111,
              "#46039f"
             ],
             [
              0.2222222222222222,
              "#7201a8"
             ],
             [
              0.3333333333333333,
              "#9c179e"
             ],
             [
              0.4444444444444444,
              "#bd3786"
             ],
             [
              0.5555555555555556,
              "#d8576b"
             ],
             [
              0.6666666666666666,
              "#ed7953"
             ],
             [
              0.7777777777777778,
              "#fb9f3a"
             ],
             [
              0.8888888888888888,
              "#fdca26"
             ],
             [
              1,
              "#f0f921"
             ]
            ],
            "type": "histogram2d"
           }
          ],
          "histogram2dcontour": [
           {
            "colorbar": {
             "outlinewidth": 0,
             "ticks": ""
            },
            "colorscale": [
             [
              0,
              "#0d0887"
             ],
             [
              0.1111111111111111,
              "#46039f"
             ],
             [
              0.2222222222222222,
              "#7201a8"
             ],
             [
              0.3333333333333333,
              "#9c179e"
             ],
             [
              0.4444444444444444,
              "#bd3786"
             ],
             [
              0.5555555555555556,
              "#d8576b"
             ],
             [
              0.6666666666666666,
              "#ed7953"
             ],
             [
              0.7777777777777778,
              "#fb9f3a"
             ],
             [
              0.8888888888888888,
              "#fdca26"
             ],
             [
              1,
              "#f0f921"
             ]
            ],
            "type": "histogram2dcontour"
           }
          ],
          "mesh3d": [
           {
            "colorbar": {
             "outlinewidth": 0,
             "ticks": ""
            },
            "type": "mesh3d"
           }
          ],
          "parcoords": [
           {
            "line": {
             "colorbar": {
              "outlinewidth": 0,
              "ticks": ""
             }
            },
            "type": "parcoords"
           }
          ],
          "pie": [
           {
            "automargin": true,
            "type": "pie"
           }
          ],
          "scatter": [
           {
            "marker": {
             "colorbar": {
              "outlinewidth": 0,
              "ticks": ""
             }
            },
            "type": "scatter"
           }
          ],
          "scatter3d": [
           {
            "line": {
             "colorbar": {
              "outlinewidth": 0,
              "ticks": ""
             }
            },
            "marker": {
             "colorbar": {
              "outlinewidth": 0,
              "ticks": ""
             }
            },
            "type": "scatter3d"
           }
          ],
          "scattercarpet": [
           {
            "marker": {
             "colorbar": {
              "outlinewidth": 0,
              "ticks": ""
             }
            },
            "type": "scattercarpet"
           }
          ],
          "scattergeo": [
           {
            "marker": {
             "colorbar": {
              "outlinewidth": 0,
              "ticks": ""
             }
            },
            "type": "scattergeo"
           }
          ],
          "scattergl": [
           {
            "marker": {
             "colorbar": {
              "outlinewidth": 0,
              "ticks": ""
             }
            },
            "type": "scattergl"
           }
          ],
          "scattermapbox": [
           {
            "marker": {
             "colorbar": {
              "outlinewidth": 0,
              "ticks": ""
             }
            },
            "type": "scattermapbox"
           }
          ],
          "scatterpolar": [
           {
            "marker": {
             "colorbar": {
              "outlinewidth": 0,
              "ticks": ""
             }
            },
            "type": "scatterpolar"
           }
          ],
          "scatterpolargl": [
           {
            "marker": {
             "colorbar": {
              "outlinewidth": 0,
              "ticks": ""
             }
            },
            "type": "scatterpolargl"
           }
          ],
          "scatterternary": [
           {
            "marker": {
             "colorbar": {
              "outlinewidth": 0,
              "ticks": ""
             }
            },
            "type": "scatterternary"
           }
          ],
          "surface": [
           {
            "colorbar": {
             "outlinewidth": 0,
             "ticks": ""
            },
            "colorscale": [
             [
              0,
              "#0d0887"
             ],
             [
              0.1111111111111111,
              "#46039f"
             ],
             [
              0.2222222222222222,
              "#7201a8"
             ],
             [
              0.3333333333333333,
              "#9c179e"
             ],
             [
              0.4444444444444444,
              "#bd3786"
             ],
             [
              0.5555555555555556,
              "#d8576b"
             ],
             [
              0.6666666666666666,
              "#ed7953"
             ],
             [
              0.7777777777777778,
              "#fb9f3a"
             ],
             [
              0.8888888888888888,
              "#fdca26"
             ],
             [
              1,
              "#f0f921"
             ]
            ],
            "type": "surface"
           }
          ],
          "table": [
           {
            "cells": {
             "fill": {
              "color": "#EBF0F8"
             },
             "line": {
              "color": "white"
             }
            },
            "header": {
             "fill": {
              "color": "#C8D4E3"
             },
             "line": {
              "color": "white"
             }
            },
            "type": "table"
           }
          ]
         },
         "layout": {
          "annotationdefaults": {
           "arrowcolor": "#2a3f5f",
           "arrowhead": 0,
           "arrowwidth": 1
          },
          "autotypenumbers": "strict",
          "coloraxis": {
           "colorbar": {
            "outlinewidth": 0,
            "ticks": ""
           }
          },
          "colorscale": {
           "diverging": [
            [
             0,
             "#8e0152"
            ],
            [
             0.1,
             "#c51b7d"
            ],
            [
             0.2,
             "#de77ae"
            ],
            [
             0.3,
             "#f1b6da"
            ],
            [
             0.4,
             "#fde0ef"
            ],
            [
             0.5,
             "#f7f7f7"
            ],
            [
             0.6,
             "#e6f5d0"
            ],
            [
             0.7,
             "#b8e186"
            ],
            [
             0.8,
             "#7fbc41"
            ],
            [
             0.9,
             "#4d9221"
            ],
            [
             1,
             "#276419"
            ]
           ],
           "sequential": [
            [
             0,
             "#0d0887"
            ],
            [
             0.1111111111111111,
             "#46039f"
            ],
            [
             0.2222222222222222,
             "#7201a8"
            ],
            [
             0.3333333333333333,
             "#9c179e"
            ],
            [
             0.4444444444444444,
             "#bd3786"
            ],
            [
             0.5555555555555556,
             "#d8576b"
            ],
            [
             0.6666666666666666,
             "#ed7953"
            ],
            [
             0.7777777777777778,
             "#fb9f3a"
            ],
            [
             0.8888888888888888,
             "#fdca26"
            ],
            [
             1,
             "#f0f921"
            ]
           ],
           "sequentialminus": [
            [
             0,
             "#0d0887"
            ],
            [
             0.1111111111111111,
             "#46039f"
            ],
            [
             0.2222222222222222,
             "#7201a8"
            ],
            [
             0.3333333333333333,
             "#9c179e"
            ],
            [
             0.4444444444444444,
             "#bd3786"
            ],
            [
             0.5555555555555556,
             "#d8576b"
            ],
            [
             0.6666666666666666,
             "#ed7953"
            ],
            [
             0.7777777777777778,
             "#fb9f3a"
            ],
            [
             0.8888888888888888,
             "#fdca26"
            ],
            [
             1,
             "#f0f921"
            ]
           ]
          },
          "colorway": [
           "#636efa",
           "#EF553B",
           "#00cc96",
           "#ab63fa",
           "#FFA15A",
           "#19d3f3",
           "#FF6692",
           "#B6E880",
           "#FF97FF",
           "#FECB52"
          ],
          "font": {
           "color": "#2a3f5f"
          },
          "geo": {
           "bgcolor": "white",
           "lakecolor": "white",
           "landcolor": "#E5ECF6",
           "showlakes": true,
           "showland": true,
           "subunitcolor": "white"
          },
          "hoverlabel": {
           "align": "left"
          },
          "hovermode": "closest",
          "mapbox": {
           "style": "light"
          },
          "paper_bgcolor": "white",
          "plot_bgcolor": "#E5ECF6",
          "polar": {
           "angularaxis": {
            "gridcolor": "white",
            "linecolor": "white",
            "ticks": ""
           },
           "bgcolor": "#E5ECF6",
           "radialaxis": {
            "gridcolor": "white",
            "linecolor": "white",
            "ticks": ""
           }
          },
          "scene": {
           "xaxis": {
            "backgroundcolor": "#E5ECF6",
            "gridcolor": "white",
            "gridwidth": 2,
            "linecolor": "white",
            "showbackground": true,
            "ticks": "",
            "zerolinecolor": "white"
           },
           "yaxis": {
            "backgroundcolor": "#E5ECF6",
            "gridcolor": "white",
            "gridwidth": 2,
            "linecolor": "white",
            "showbackground": true,
            "ticks": "",
            "zerolinecolor": "white"
           },
           "zaxis": {
            "backgroundcolor": "#E5ECF6",
            "gridcolor": "white",
            "gridwidth": 2,
            "linecolor": "white",
            "showbackground": true,
            "ticks": "",
            "zerolinecolor": "white"
           }
          },
          "shapedefaults": {
           "line": {
            "color": "#2a3f5f"
           }
          },
          "ternary": {
           "aaxis": {
            "gridcolor": "white",
            "linecolor": "white",
            "ticks": ""
           },
           "baxis": {
            "gridcolor": "white",
            "linecolor": "white",
            "ticks": ""
           },
           "bgcolor": "#E5ECF6",
           "caxis": {
            "gridcolor": "white",
            "linecolor": "white",
            "ticks": ""
           }
          },
          "title": {
           "x": 0.05
          },
          "xaxis": {
           "automargin": true,
           "gridcolor": "white",
           "linecolor": "white",
           "ticks": "",
           "title": {
            "standoff": 15
           },
           "zerolinecolor": "white",
           "zerolinewidth": 2
          },
          "yaxis": {
           "automargin": true,
           "gridcolor": "white",
           "linecolor": "white",
           "ticks": "",
           "title": {
            "standoff": 15
           },
           "zerolinecolor": "white",
           "zerolinewidth": 2
          }
         }
        },
        "title": {
         "text": "Percentage of Status for Each Truck Number"
        },
        "width": 1000,
        "xaxis": {
         "tickangle": -45,
         "title": {
          "text": "Truck number"
         }
        },
        "yaxis": {
         "title": {
          "text": "Percentage"
         }
        }
       }
      },
      "text/html": [
       "<div>                            <div id=\"f733476f-a66f-4259-a32d-7c2e96111ab1\" class=\"plotly-graph-div\" style=\"height:1000px; width:1000px;\"></div>            <script type=\"text/javascript\">                require([\"plotly\"], function(Plotly) {                    window.PLOTLYENV=window.PLOTLYENV || {};                                    if (document.getElementById(\"f733476f-a66f-4259-a32d-7c2e96111ab1\")) {                    Plotly.newPlot(                        \"f733476f-a66f-4259-a32d-7c2e96111ab1\",                        [{\"name\":\"Cargo arrived at BWH\",\"x\":[37,39,45,47,48,49,50],\"y\":[1.4134275618374559,0.0,2.8169014084507045,0.0,1.694915254237288,2.564102564102564,0.0],\"type\":\"bar\"},{\"name\":\"Customs declaration\",\"x\":[37,39,45,47,48,49,50],\"y\":[0.35335689045936397,0.0,0.0,0.0,1.694915254237288,0.0,0.7874015748031495],\"type\":\"bar\"},{\"name\":\"On shelf\",\"x\":[37,39,45,47,48,49,50],\"y\":[98.23321554770318,100.0,97.1830985915493,100.0,96.61016949152543,97.43589743589743,99.21259842519686],\"type\":\"bar\"}],                        {\"template\":{\"data\":{\"bar\":[{\"error_x\":{\"color\":\"#2a3f5f\"},\"error_y\":{\"color\":\"#2a3f5f\"},\"marker\":{\"line\":{\"color\":\"#E5ECF6\",\"width\":0.5},\"pattern\":{\"fillmode\":\"overlay\",\"size\":10,\"solidity\":0.2}},\"type\":\"bar\"}],\"barpolar\":[{\"marker\":{\"line\":{\"color\":\"#E5ECF6\",\"width\":0.5},\"pattern\":{\"fillmode\":\"overlay\",\"size\":10,\"solidity\":0.2}},\"type\":\"barpolar\"}],\"carpet\":[{\"aaxis\":{\"endlinecolor\":\"#2a3f5f\",\"gridcolor\":\"white\",\"linecolor\":\"white\",\"minorgridcolor\":\"white\",\"startlinecolor\":\"#2a3f5f\"},\"baxis\":{\"endlinecolor\":\"#2a3f5f\",\"gridcolor\":\"white\",\"linecolor\":\"white\",\"minorgridcolor\":\"white\",\"startlinecolor\":\"#2a3f5f\"},\"type\":\"carpet\"}],\"choropleth\":[{\"colorbar\":{\"outlinewidth\":0,\"ticks\":\"\"},\"type\":\"choropleth\"}],\"contour\":[{\"colorbar\":{\"outlinewidth\":0,\"ticks\":\"\"},\"colorscale\":[[0.0,\"#0d0887\"],[0.1111111111111111,\"#46039f\"],[0.2222222222222222,\"#7201a8\"],[0.3333333333333333,\"#9c179e\"],[0.4444444444444444,\"#bd3786\"],[0.5555555555555556,\"#d8576b\"],[0.6666666666666666,\"#ed7953\"],[0.7777777777777778,\"#fb9f3a\"],[0.8888888888888888,\"#fdca26\"],[1.0,\"#f0f921\"]],\"type\":\"contour\"}],\"contourcarpet\":[{\"colorbar\":{\"outlinewidth\":0,\"ticks\":\"\"},\"type\":\"contourcarpet\"}],\"heatmap\":[{\"colorbar\":{\"outlinewidth\":0,\"ticks\":\"\"},\"colorscale\":[[0.0,\"#0d0887\"],[0.1111111111111111,\"#46039f\"],[0.2222222222222222,\"#7201a8\"],[0.3333333333333333,\"#9c179e\"],[0.4444444444444444,\"#bd3786\"],[0.5555555555555556,\"#d8576b\"],[0.6666666666666666,\"#ed7953\"],[0.7777777777777778,\"#fb9f3a\"],[0.8888888888888888,\"#fdca26\"],[1.0,\"#f0f921\"]],\"type\":\"heatmap\"}],\"heatmapgl\":[{\"colorbar\":{\"outlinewidth\":0,\"ticks\":\"\"},\"colorscale\":[[0.0,\"#0d0887\"],[0.1111111111111111,\"#46039f\"],[0.2222222222222222,\"#7201a8\"],[0.3333333333333333,\"#9c179e\"],[0.4444444444444444,\"#bd3786\"],[0.5555555555555556,\"#d8576b\"],[0.6666666666666666,\"#ed7953\"],[0.7777777777777778,\"#fb9f3a\"],[0.8888888888888888,\"#fdca26\"],[1.0,\"#f0f921\"]],\"type\":\"heatmapgl\"}],\"histogram\":[{\"marker\":{\"pattern\":{\"fillmode\":\"overlay\",\"size\":10,\"solidity\":0.2}},\"type\":\"histogram\"}],\"histogram2d\":[{\"colorbar\":{\"outlinewidth\":0,\"ticks\":\"\"},\"colorscale\":[[0.0,\"#0d0887\"],[0.1111111111111111,\"#46039f\"],[0.2222222222222222,\"#7201a8\"],[0.3333333333333333,\"#9c179e\"],[0.4444444444444444,\"#bd3786\"],[0.5555555555555556,\"#d8576b\"],[0.6666666666666666,\"#ed7953\"],[0.7777777777777778,\"#fb9f3a\"],[0.8888888888888888,\"#fdca26\"],[1.0,\"#f0f921\"]],\"type\":\"histogram2d\"}],\"histogram2dcontour\":[{\"colorbar\":{\"outlinewidth\":0,\"ticks\":\"\"},\"colorscale\":[[0.0,\"#0d0887\"],[0.1111111111111111,\"#46039f\"],[0.2222222222222222,\"#7201a8\"],[0.3333333333333333,\"#9c179e\"],[0.4444444444444444,\"#bd3786\"],[0.5555555555555556,\"#d8576b\"],[0.6666666666666666,\"#ed7953\"],[0.7777777777777778,\"#fb9f3a\"],[0.8888888888888888,\"#fdca26\"],[1.0,\"#f0f921\"]],\"type\":\"histogram2dcontour\"}],\"mesh3d\":[{\"colorbar\":{\"outlinewidth\":0,\"ticks\":\"\"},\"type\":\"mesh3d\"}],\"parcoords\":[{\"line\":{\"colorbar\":{\"outlinewidth\":0,\"ticks\":\"\"}},\"type\":\"parcoords\"}],\"pie\":[{\"automargin\":true,\"type\":\"pie\"}],\"scatter\":[{\"marker\":{\"colorbar\":{\"outlinewidth\":0,\"ticks\":\"\"}},\"type\":\"scatter\"}],\"scatter3d\":[{\"line\":{\"colorbar\":{\"outlinewidth\":0,\"ticks\":\"\"}},\"marker\":{\"colorbar\":{\"outlinewidth\":0,\"ticks\":\"\"}},\"type\":\"scatter3d\"}],\"scattercarpet\":[{\"marker\":{\"colorbar\":{\"outlinewidth\":0,\"ticks\":\"\"}},\"type\":\"scattercarpet\"}],\"scattergeo\":[{\"marker\":{\"colorbar\":{\"outlinewidth\":0,\"ticks\":\"\"}},\"type\":\"scattergeo\"}],\"scattergl\":[{\"marker\":{\"colorbar\":{\"outlinewidth\":0,\"ticks\":\"\"}},\"type\":\"scattergl\"}],\"scattermapbox\":[{\"marker\":{\"colorbar\":{\"outlinewidth\":0,\"ticks\":\"\"}},\"type\":\"scattermapbox\"}],\"scatterpolar\":[{\"marker\":{\"colorbar\":{\"outlinewidth\":0,\"ticks\":\"\"}},\"type\":\"scatterpolar\"}],\"scatterpolargl\":[{\"marker\":{\"colorbar\":{\"outlinewidth\":0,\"ticks\":\"\"}},\"type\":\"scatterpolargl\"}],\"scatterternary\":[{\"marker\":{\"colorbar\":{\"outlinewidth\":0,\"ticks\":\"\"}},\"type\":\"scatterternary\"}],\"surface\":[{\"colorbar\":{\"outlinewidth\":0,\"ticks\":\"\"},\"colorscale\":[[0.0,\"#0d0887\"],[0.1111111111111111,\"#46039f\"],[0.2222222222222222,\"#7201a8\"],[0.3333333333333333,\"#9c179e\"],[0.4444444444444444,\"#bd3786\"],[0.5555555555555556,\"#d8576b\"],[0.6666666666666666,\"#ed7953\"],[0.7777777777777778,\"#fb9f3a\"],[0.8888888888888888,\"#fdca26\"],[1.0,\"#f0f921\"]],\"type\":\"surface\"}],\"table\":[{\"cells\":{\"fill\":{\"color\":\"#EBF0F8\"},\"line\":{\"color\":\"white\"}},\"header\":{\"fill\":{\"color\":\"#C8D4E3\"},\"line\":{\"color\":\"white\"}},\"type\":\"table\"}]},\"layout\":{\"annotationdefaults\":{\"arrowcolor\":\"#2a3f5f\",\"arrowhead\":0,\"arrowwidth\":1},\"autotypenumbers\":\"strict\",\"coloraxis\":{\"colorbar\":{\"outlinewidth\":0,\"ticks\":\"\"}},\"colorscale\":{\"diverging\":[[0,\"#8e0152\"],[0.1,\"#c51b7d\"],[0.2,\"#de77ae\"],[0.3,\"#f1b6da\"],[0.4,\"#fde0ef\"],[0.5,\"#f7f7f7\"],[0.6,\"#e6f5d0\"],[0.7,\"#b8e186\"],[0.8,\"#7fbc41\"],[0.9,\"#4d9221\"],[1,\"#276419\"]],\"sequential\":[[0.0,\"#0d0887\"],[0.1111111111111111,\"#46039f\"],[0.2222222222222222,\"#7201a8\"],[0.3333333333333333,\"#9c179e\"],[0.4444444444444444,\"#bd3786\"],[0.5555555555555556,\"#d8576b\"],[0.6666666666666666,\"#ed7953\"],[0.7777777777777778,\"#fb9f3a\"],[0.8888888888888888,\"#fdca26\"],[1.0,\"#f0f921\"]],\"sequentialminus\":[[0.0,\"#0d0887\"],[0.1111111111111111,\"#46039f\"],[0.2222222222222222,\"#7201a8\"],[0.3333333333333333,\"#9c179e\"],[0.4444444444444444,\"#bd3786\"],[0.5555555555555556,\"#d8576b\"],[0.6666666666666666,\"#ed7953\"],[0.7777777777777778,\"#fb9f3a\"],[0.8888888888888888,\"#fdca26\"],[1.0,\"#f0f921\"]]},\"colorway\":[\"#636efa\",\"#EF553B\",\"#00cc96\",\"#ab63fa\",\"#FFA15A\",\"#19d3f3\",\"#FF6692\",\"#B6E880\",\"#FF97FF\",\"#FECB52\"],\"font\":{\"color\":\"#2a3f5f\"},\"geo\":{\"bgcolor\":\"white\",\"lakecolor\":\"white\",\"landcolor\":\"#E5ECF6\",\"showlakes\":true,\"showland\":true,\"subunitcolor\":\"white\"},\"hoverlabel\":{\"align\":\"left\"},\"hovermode\":\"closest\",\"mapbox\":{\"style\":\"light\"},\"paper_bgcolor\":\"white\",\"plot_bgcolor\":\"#E5ECF6\",\"polar\":{\"angularaxis\":{\"gridcolor\":\"white\",\"linecolor\":\"white\",\"ticks\":\"\"},\"bgcolor\":\"#E5ECF6\",\"radialaxis\":{\"gridcolor\":\"white\",\"linecolor\":\"white\",\"ticks\":\"\"}},\"scene\":{\"xaxis\":{\"backgroundcolor\":\"#E5ECF6\",\"gridcolor\":\"white\",\"gridwidth\":2,\"linecolor\":\"white\",\"showbackground\":true,\"ticks\":\"\",\"zerolinecolor\":\"white\"},\"yaxis\":{\"backgroundcolor\":\"#E5ECF6\",\"gridcolor\":\"white\",\"gridwidth\":2,\"linecolor\":\"white\",\"showbackground\":true,\"ticks\":\"\",\"zerolinecolor\":\"white\"},\"zaxis\":{\"backgroundcolor\":\"#E5ECF6\",\"gridcolor\":\"white\",\"gridwidth\":2,\"linecolor\":\"white\",\"showbackground\":true,\"ticks\":\"\",\"zerolinecolor\":\"white\"}},\"shapedefaults\":{\"line\":{\"color\":\"#2a3f5f\"}},\"ternary\":{\"aaxis\":{\"gridcolor\":\"white\",\"linecolor\":\"white\",\"ticks\":\"\"},\"baxis\":{\"gridcolor\":\"white\",\"linecolor\":\"white\",\"ticks\":\"\"},\"bgcolor\":\"#E5ECF6\",\"caxis\":{\"gridcolor\":\"white\",\"linecolor\":\"white\",\"ticks\":\"\"}},\"title\":{\"x\":0.05},\"xaxis\":{\"automargin\":true,\"gridcolor\":\"white\",\"linecolor\":\"white\",\"ticks\":\"\",\"title\":{\"standoff\":15},\"zerolinecolor\":\"white\",\"zerolinewidth\":2},\"yaxis\":{\"automargin\":true,\"gridcolor\":\"white\",\"linecolor\":\"white\",\"ticks\":\"\",\"title\":{\"standoff\":15},\"zerolinecolor\":\"white\",\"zerolinewidth\":2}}},\"xaxis\":{\"title\":{\"text\":\"Truck number\"},\"tickangle\":-45},\"font\":{\"size\":12},\"barmode\":\"stack\",\"title\":{\"text\":\"Percentage of Status for Each Truck Number\"},\"yaxis\":{\"title\":{\"text\":\"Percentage\"}},\"legend\":{\"title\":{\"text\":\"Status\"}},\"width\":1000,\"height\":1000},                        {\"responsive\": true}                    ).then(function(){\n",
       "                            \n",
       "var gd = document.getElementById('f733476f-a66f-4259-a32d-7c2e96111ab1');\n",
       "var x = new MutationObserver(function (mutations, observer) {{\n",
       "        var display = window.getComputedStyle(gd).display;\n",
       "        if (!display || display === 'none') {{\n",
       "            console.log([gd, 'removed!']);\n",
       "            Plotly.purge(gd);\n",
       "            observer.disconnect();\n",
       "        }}\n",
       "}});\n",
       "\n",
       "// Listen for the removal of the full notebook cells\n",
       "var notebookContainer = gd.closest('#notebook-container');\n",
       "if (notebookContainer) {{\n",
       "    x.observe(notebookContainer, {childList: true});\n",
       "}}\n",
       "\n",
       "// Listen for the clearing of the current output cell\n",
       "var outputEl = gd.closest('.output');\n",
       "if (outputEl) {{\n",
       "    x.observe(outputEl, {childList: true});\n",
       "}}\n",
       "\n",
       "                        })                };                });            </script>        </div>"
      ]
     },
     "metadata": {},
     "output_type": "display_data"
    }
   ],
   "source": [
    "fig = go.Figure()\n",
    "\n",
    "for status in pivot_df.columns:\n",
    "    fig.add_trace(go.Bar(\n",
    "        x=pivot_df.index,\n",
    "        y=pivot_df[status],\n",
    "        name=status\n",
    "    ))\n",
    "\n",
    "fig.update_layout(\n",
    "    barmode='stack',\n",
    "    title='Percentage of Status for Each Truck Number',\n",
    "    xaxis=dict(title='Truck number', tickangle=-45),\n",
    "    yaxis=dict(title='Percentage'),\n",
    "    legend=dict(title='Status'),\n",
    "    font=dict(size=12),\n",
    "    width=1000,  # Increased width\n",
    "    height=1000,  # Increased height\n",
    ")\n",
    "\n",
    "fig.show()"
   ]
  },
  {
   "cell_type": "markdown",
   "id": "ecfacf9a",
   "metadata": {},
   "source": [
    "- По графику выше (обычному или интерактивному) визуально можно оценить актуальное состояние траков"
   ]
  },
  {
   "cell_type": "code",
   "execution_count": null,
   "id": "faff1530",
   "metadata": {},
   "outputs": [],
   "source": []
  }
 ],
 "metadata": {
  "ExecuteTimeLog": [
   {
    "duration": 102,
    "start_time": "2024-02-12T06:38:56.765Z"
   },
   {
    "duration": 1464,
    "start_time": "2024-02-12T06:39:55.169Z"
   },
   {
    "duration": 38,
    "start_time": "2024-02-12T06:39:56.636Z"
   },
   {
    "duration": 1148,
    "start_time": "2024-02-12T06:39:56.676Z"
   },
   {
    "duration": 528,
    "start_time": "2024-02-12T06:40:20.972Z"
   },
   {
    "duration": 121,
    "start_time": "2024-02-12T06:40:23.526Z"
   },
   {
    "duration": 544,
    "start_time": "2024-02-12T06:40:41.260Z"
   },
   {
    "duration": 112,
    "start_time": "2024-02-12T06:40:50.918Z"
   },
   {
    "duration": 173,
    "start_time": "2024-02-12T06:51:33.265Z"
   },
   {
    "duration": 10,
    "start_time": "2024-02-12T06:51:40.467Z"
   },
   {
    "duration": 11,
    "start_time": "2024-02-12T06:51:50.785Z"
   },
   {
    "duration": 12,
    "start_time": "2024-02-12T06:53:52.574Z"
   },
   {
    "duration": 12,
    "start_time": "2024-02-12T06:54:04.266Z"
   },
   {
    "duration": 11,
    "start_time": "2024-02-12T06:54:21.964Z"
   },
   {
    "duration": 1486,
    "start_time": "2024-02-12T06:55:48.729Z"
   },
   {
    "duration": 15,
    "start_time": "2024-02-12T06:56:17.846Z"
   },
   {
    "duration": 14,
    "start_time": "2024-02-12T06:59:14.900Z"
   },
   {
    "duration": 14,
    "start_time": "2024-02-12T06:59:27.339Z"
   },
   {
    "duration": 14,
    "start_time": "2024-02-12T07:01:37.586Z"
   },
   {
    "duration": 3,
    "start_time": "2024-02-12T07:02:03.754Z"
   },
   {
    "duration": 32,
    "start_time": "2024-02-12T07:02:03.759Z"
   },
   {
    "duration": 547,
    "start_time": "2024-02-12T07:02:03.793Z"
   },
   {
    "duration": 115,
    "start_time": "2024-02-12T07:02:04.343Z"
   },
   {
    "duration": 104,
    "start_time": "2024-02-12T07:02:04.459Z"
   },
   {
    "duration": 33,
    "start_time": "2024-02-12T07:02:04.564Z"
   },
   {
    "duration": 28,
    "start_time": "2024-02-12T07:02:04.598Z"
   },
   {
    "duration": 33,
    "start_time": "2024-02-12T07:02:04.627Z"
   },
   {
    "duration": 37,
    "start_time": "2024-02-12T07:02:04.662Z"
   },
   {
    "duration": 30,
    "start_time": "2024-02-12T07:02:04.700Z"
   },
   {
    "duration": 13,
    "start_time": "2024-02-12T07:02:30.547Z"
   },
   {
    "duration": 11,
    "start_time": "2024-02-12T07:02:33.043Z"
   },
   {
    "duration": 13,
    "start_time": "2024-02-12T07:02:34.190Z"
   },
   {
    "duration": 2,
    "start_time": "2024-02-12T07:02:36.201Z"
   },
   {
    "duration": 27,
    "start_time": "2024-02-12T07:02:36.205Z"
   },
   {
    "duration": 496,
    "start_time": "2024-02-12T07:02:36.234Z"
   },
   {
    "duration": 194,
    "start_time": "2024-02-12T07:02:36.731Z"
   },
   {
    "duration": 113,
    "start_time": "2024-02-12T07:02:36.926Z"
   },
   {
    "duration": 25,
    "start_time": "2024-02-12T07:02:37.041Z"
   },
   {
    "duration": 14,
    "start_time": "2024-02-12T07:02:37.068Z"
   },
   {
    "duration": 27,
    "start_time": "2024-02-12T07:02:37.083Z"
   },
   {
    "duration": 20,
    "start_time": "2024-02-12T07:02:37.112Z"
   },
   {
    "duration": 11,
    "start_time": "2024-02-12T07:02:37.134Z"
   },
   {
    "duration": 5,
    "start_time": "2024-02-12T07:03:14.545Z"
   },
   {
    "duration": 10,
    "start_time": "2024-02-12T07:03:14.796Z"
   },
   {
    "duration": 11,
    "start_time": "2024-02-12T07:03:15.830Z"
   },
   {
    "duration": 3,
    "start_time": "2024-02-12T07:03:20.744Z"
   },
   {
    "duration": 29,
    "start_time": "2024-02-12T07:03:20.748Z"
   },
   {
    "duration": 553,
    "start_time": "2024-02-12T07:03:20.778Z"
   },
   {
    "duration": 108,
    "start_time": "2024-02-12T07:03:21.334Z"
   },
   {
    "duration": 179,
    "start_time": "2024-02-12T07:03:21.444Z"
   },
   {
    "duration": 11,
    "start_time": "2024-02-12T07:03:21.624Z"
   },
   {
    "duration": 17,
    "start_time": "2024-02-12T07:03:21.637Z"
   },
   {
    "duration": 18,
    "start_time": "2024-02-12T07:03:21.656Z"
   },
   {
    "duration": 10,
    "start_time": "2024-02-12T07:03:21.676Z"
   },
   {
    "duration": 13,
    "start_time": "2024-02-12T07:03:21.688Z"
   },
   {
    "duration": 11,
    "start_time": "2024-02-12T07:04:36.633Z"
   },
   {
    "duration": 19,
    "start_time": "2024-02-12T07:04:58.267Z"
   },
   {
    "duration": 10,
    "start_time": "2024-02-12T07:05:56.214Z"
   },
   {
    "duration": 3,
    "start_time": "2024-02-12T07:06:09.484Z"
   },
   {
    "duration": 4,
    "start_time": "2024-02-12T07:06:13.908Z"
   },
   {
    "duration": 10,
    "start_time": "2024-02-12T07:08:15.189Z"
   },
   {
    "duration": 386,
    "start_time": "2024-02-12T07:08:33.718Z"
   },
   {
    "duration": 364,
    "start_time": "2024-02-12T07:09:22.029Z"
   },
   {
    "duration": 368,
    "start_time": "2024-02-12T07:09:38.118Z"
   },
   {
    "duration": 341,
    "start_time": "2024-02-12T07:10:24.052Z"
   },
   {
    "duration": 320,
    "start_time": "2024-02-12T07:12:55.067Z"
   },
   {
    "duration": 406,
    "start_time": "2024-02-12T07:13:40.081Z"
   },
   {
    "duration": 319,
    "start_time": "2024-02-12T07:13:59.273Z"
   },
   {
    "duration": 338,
    "start_time": "2024-02-12T07:14:47.288Z"
   },
   {
    "duration": 330,
    "start_time": "2024-02-12T07:16:06.070Z"
   },
   {
    "duration": 327,
    "start_time": "2024-02-12T07:16:28.480Z"
   },
   {
    "duration": 439,
    "start_time": "2024-02-12T07:16:32.812Z"
   },
   {
    "duration": 321,
    "start_time": "2024-02-12T07:16:41.232Z"
   },
   {
    "duration": 353,
    "start_time": "2024-02-12T07:16:44.990Z"
   },
   {
    "duration": 13,
    "start_time": "2024-02-12T07:17:42.298Z"
   },
   {
    "duration": 16,
    "start_time": "2024-02-12T07:17:58.403Z"
   },
   {
    "duration": 16,
    "start_time": "2024-02-12T07:19:26.113Z"
   },
   {
    "duration": 14,
    "start_time": "2024-02-12T07:19:35.401Z"
   },
   {
    "duration": 14,
    "start_time": "2024-02-12T07:20:33.891Z"
   },
   {
    "duration": 3,
    "start_time": "2024-02-12T07:20:43.595Z"
   },
   {
    "duration": 34,
    "start_time": "2024-02-12T07:20:43.600Z"
   },
   {
    "duration": 530,
    "start_time": "2024-02-12T07:20:43.636Z"
   },
   {
    "duration": 107,
    "start_time": "2024-02-12T07:20:44.173Z"
   },
   {
    "duration": 188,
    "start_time": "2024-02-12T07:20:44.281Z"
   },
   {
    "duration": 15,
    "start_time": "2024-02-12T07:20:44.473Z"
   },
   {
    "duration": 25,
    "start_time": "2024-02-12T07:20:44.490Z"
   },
   {
    "duration": 9,
    "start_time": "2024-02-12T07:20:44.529Z"
   },
   {
    "duration": 15,
    "start_time": "2024-02-12T07:20:44.539Z"
   },
   {
    "duration": 28,
    "start_time": "2024-02-12T07:20:44.557Z"
   },
   {
    "duration": 31,
    "start_time": "2024-02-12T07:20:44.587Z"
   },
   {
    "duration": 20,
    "start_time": "2024-02-12T07:20:44.620Z"
   },
   {
    "duration": 23,
    "start_time": "2024-02-12T07:20:44.641Z"
   },
   {
    "duration": 19,
    "start_time": "2024-02-12T07:20:44.666Z"
   },
   {
    "duration": 397,
    "start_time": "2024-02-12T07:20:44.686Z"
   },
   {
    "duration": 15,
    "start_time": "2024-02-12T07:20:45.085Z"
   },
   {
    "duration": 3,
    "start_time": "2024-02-12T08:02:02.492Z"
   },
   {
    "duration": 32,
    "start_time": "2024-02-12T08:02:02.497Z"
   },
   {
    "duration": 516,
    "start_time": "2024-02-12T08:02:02.530Z"
   },
   {
    "duration": 110,
    "start_time": "2024-02-12T08:02:03.048Z"
   },
   {
    "duration": 113,
    "start_time": "2024-02-12T08:02:03.160Z"
   },
   {
    "duration": 24,
    "start_time": "2024-02-12T08:02:03.274Z"
   },
   {
    "duration": 10,
    "start_time": "2024-02-12T08:02:03.300Z"
   },
   {
    "duration": 11,
    "start_time": "2024-02-12T08:02:03.312Z"
   },
   {
    "duration": 13,
    "start_time": "2024-02-12T08:02:03.326Z"
   },
   {
    "duration": 11,
    "start_time": "2024-02-12T08:02:03.340Z"
   },
   {
    "duration": 40,
    "start_time": "2024-02-12T08:02:03.352Z"
   },
   {
    "duration": 3,
    "start_time": "2024-02-12T08:02:03.394Z"
   },
   {
    "duration": 9,
    "start_time": "2024-02-12T08:02:03.398Z"
   },
   {
    "duration": 12,
    "start_time": "2024-02-12T08:02:03.408Z"
   },
   {
    "duration": 340,
    "start_time": "2024-02-12T08:02:03.421Z"
   },
   {
    "duration": 21,
    "start_time": "2024-02-12T08:02:03.763Z"
   },
   {
    "duration": 116,
    "start_time": "2024-02-12T08:06:03.228Z"
   },
   {
    "duration": 643,
    "start_time": "2024-02-12T08:06:12.340Z"
   }
  ],
  "kernelspec": {
   "display_name": "Python 3 (ipykernel)",
   "language": "python",
   "name": "python3"
  },
  "language_info": {
   "codemirror_mode": {
    "name": "ipython",
    "version": 3
   },
   "file_extension": ".py",
   "mimetype": "text/x-python",
   "name": "python",
   "nbconvert_exporter": "python",
   "pygments_lexer": "ipython3",
   "version": "3.9.5"
  },
  "toc": {
   "base_numbering": 1,
   "nav_menu": {},
   "number_sections": true,
   "sideBar": true,
   "skip_h1_title": true,
   "title_cell": "Table of Contents",
   "title_sidebar": "Contents",
   "toc_cell": false,
   "toc_position": {},
   "toc_section_display": true,
   "toc_window_display": false
  }
 },
 "nbformat": 4,
 "nbformat_minor": 5
}
